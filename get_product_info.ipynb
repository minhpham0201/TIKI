{
 "cells": [
  {
   "cell_type": "code",
   "execution_count": 20,
   "metadata": {},
   "outputs": [],
   "source": [
    "import pandas as pd\n",
    "import json\n",
    "import requests \n",
    "import time\n",
    "import random\n",
    "import tqdm"
   ]
  },
  {
   "cell_type": "code",
   "execution_count": 29,
   "metadata": {},
   "outputs": [],
   "source": [
    "headers = {\n",
    "    'User-Agent':'Mozilla/5.0 (Windows NT 10.0; Win64; x64) AppleWebKit/537.36 (KHTML, like Gecko) Chrome/114.0.0.0 Safari/537.36',\n",
    "    'Accept':'application/json, text/plain, */*',\n",
    "    'Accept-Language': 'en-US,en;q=0.9,vi;q=0.8,th;q=0.7,zh-CN;q=0.6,zh;q=0.5',\n",
    "    'Referer' : 'https://tiki.vn/dien-thoai-may-tinh-bang/c1789',\n",
    "    'X-Guest-Token': 'Ae1PtIuUDbozkgpQ6VOW57jKqvchZxF2',\n",
    "    'Connection' : 'keep-alive',\n",
    "    'TE': 'Trailers'\n",
    "}\n",
    "\n",
    "params = {\n",
    "    'limit':'5',\n",
    "    'include': 'comments,contribute_info,attribute_vote_summary',\n",
    "}"
   ]
  },
  {
   "cell_type": "code",
   "execution_count": 60,
   "metadata": {},
   "outputs": [],
   "source": [
    "def product_parser(json):\n",
    "    pInfo = {}\n",
    "    \n",
    "    pInfo['id'] = json.get('id')\n",
    "    pInfo['sku'] = json.get('sku')\n",
    "    pInfo['name'] = json.get('name')\n",
    "    pInfo['discription'] = json.get('short_description')\n",
    "    pInfo['original_price'] = json.get('original_price')\n",
    "    pInfo['list_price'] = json.get('list_price')\n",
    "    pInfo['price'] = json.get('price')\n",
    "    pInfo['alltime_quantity_sold'] = json.get('all_time_quantity_sold')\n",
    "    pInfo['quantity_sold'] = json.get('quantity_sold').get('value')\n",
    "    pInfo['inventory_status'] = json.get('inventory_status')\n",
    "    pInfo['fulfillment_type'] = json.get('inventory').get('fulfillment_type')\n",
    "    pInfo['brand'] = json.get('brand').get('name')\n",
    "    pInfo['category_id'] = json.get('categories').get('id')\n",
    "    pInfo['category'] = json.get('categories').get('name')\n",
    "    pInfo['review_count'] = json.get('review_count')\n",
    "    pInfo['rating_average'] = json.get('rating_average')\n",
    "    pInfo['favourite_count'] = json.get('favourite_count')\n",
    "    pInfo['ASA_cashback'] = json.get('asa_cashback_widget').get('text')\n",
    "    pInfo['pay_later'] = json.get('installment_info_v2')\n",
    "    pInfo['current_seller'] = json.get('current_seller').get('name')\n",
    "    pInfo['date_created'] = json.get('day_ago_created')\n",
    "    pInfo['waranty'] = json.get('warranty_info')[0].get('value')\n",
    "    return pInfo\n"
   ]
  },
  {
   "cell_type": "code",
   "execution_count": 17,
   "metadata": {},
   "outputs": [],
   "source": [
    "df_ids = pd.read_csv('D:\\TIKI\\mobile_tablet_id.csv')\n",
    "product_ids = df_ids['product_id'].to_list()"
   ]
  },
  {
   "cell_type": "code",
   "execution_count": 55,
   "metadata": {},
   "outputs": [],
   "source": [
    "list = [250109584, 103168844, 91612670, 177343384,247892412]"
   ]
  },
  {
   "cell_type": "code",
   "execution_count": 61,
   "metadata": {},
   "outputs": [
    {
     "name": "stderr",
     "output_type": "stream",
     "text": [
      " 20%|██        | 1/5 [00:00<00:01,  3.31it/s]"
     ]
    },
    {
     "name": "stdout",
     "output_type": "stream",
     "text": [
      "crawling product id 250109584\n"
     ]
    },
    {
     "name": "stderr",
     "output_type": "stream",
     "text": [
      " 40%|████      | 2/5 [00:00<00:00,  3.54it/s]"
     ]
    },
    {
     "name": "stdout",
     "output_type": "stream",
     "text": [
      "crawling product id 103168844\n"
     ]
    },
    {
     "name": "stderr",
     "output_type": "stream",
     "text": [
      " 60%|██████    | 3/5 [00:00<00:00,  3.51it/s]"
     ]
    },
    {
     "name": "stdout",
     "output_type": "stream",
     "text": [
      "crawling product id 91612670\n"
     ]
    },
    {
     "name": "stderr",
     "output_type": "stream",
     "text": [
      " 80%|████████  | 4/5 [00:01<00:00,  3.50it/s]"
     ]
    },
    {
     "name": "stdout",
     "output_type": "stream",
     "text": [
      "crawling product id 177343384\n"
     ]
    },
    {
     "name": "stderr",
     "output_type": "stream",
     "text": [
      "100%|██████████| 5/5 [00:01<00:00,  3.67it/s]"
     ]
    },
    {
     "name": "stdout",
     "output_type": "stream",
     "text": [
      "crawling product id 247892412\n"
     ]
    },
    {
     "name": "stderr",
     "output_type": "stream",
     "text": [
      "\n"
     ]
    }
   ],
   "source": [
    "from tqdm import tqdm\n",
    "\n",
    "result = []\n",
    "for id in tqdm(list):  #test short list\n",
    "    response = requests.get('https://tiki.vn/api/v2/products/{}'.format(id),headers=headers,params=params)\n",
    "    if response.status_code == 200:\n",
    "        print('crawling product id {}'.format(id))\n",
    "        result.append(product_parser(response.json()))\n",
    "                            \n",
    "product_info = pd.DataFrame(result)\n"
   ]
  },
  {
   "cell_type": "code",
   "execution_count": 62,
   "metadata": {},
   "outputs": [
    {
     "data": {
      "text/html": [
       "<div>\n",
       "<style scoped>\n",
       "    .dataframe tbody tr th:only-of-type {\n",
       "        vertical-align: middle;\n",
       "    }\n",
       "\n",
       "    .dataframe tbody tr th {\n",
       "        vertical-align: top;\n",
       "    }\n",
       "\n",
       "    .dataframe thead th {\n",
       "        text-align: right;\n",
       "    }\n",
       "</style>\n",
       "<table border=\"1\" class=\"dataframe\">\n",
       "  <thead>\n",
       "    <tr style=\"text-align: right;\">\n",
       "      <th></th>\n",
       "      <th>id</th>\n",
       "      <th>sku</th>\n",
       "      <th>name</th>\n",
       "      <th>discription</th>\n",
       "      <th>original_price</th>\n",
       "      <th>list_price</th>\n",
       "      <th>price</th>\n",
       "      <th>alltime_quantity_sold</th>\n",
       "      <th>quantity_sold</th>\n",
       "      <th>inventory_status</th>\n",
       "      <th>...</th>\n",
       "      <th>category_id</th>\n",
       "      <th>category</th>\n",
       "      <th>review_count</th>\n",
       "      <th>rating_average</th>\n",
       "      <th>favourite_count</th>\n",
       "      <th>ASA_cashback</th>\n",
       "      <th>pay_later</th>\n",
       "      <th>current_seller</th>\n",
       "      <th>date_created</th>\n",
       "      <th>waranty</th>\n",
       "    </tr>\n",
       "  </thead>\n",
       "  <tbody>\n",
       "    <tr>\n",
       "      <th>0</th>\n",
       "      <td>250109584</td>\n",
       "      <td>5991957515400</td>\n",
       "      <td>Điện thoại Xiaomi Redmi Note 12 (4GB/128GB) - ...</td>\n",
       "      <td>Xiaomi Redmi Note 12 4GB có thể xem là cái tên...</td>\n",
       "      <td>4990000</td>\n",
       "      <td>4990000</td>\n",
       "      <td>3939000</td>\n",
       "      <td>46</td>\n",
       "      <td>46</td>\n",
       "      <td>available</td>\n",
       "      <td>...</td>\n",
       "      <td>1795</td>\n",
       "      <td>Điện thoại Smartphone</td>\n",
       "      <td>16</td>\n",
       "      <td>5.0</td>\n",
       "      <td>0</td>\n",
       "      <td>Thưởng 19,70 ASA (≈ 4.293đ)</td>\n",
       "      <td>{'title': 'Trả góp', 'summary': '328.250 ₫/thá...</td>\n",
       "      <td>HAPPY PHONE</td>\n",
       "      <td>70</td>\n",
       "      <td>18 Tháng</td>\n",
       "    </tr>\n",
       "    <tr>\n",
       "      <th>1</th>\n",
       "      <td>103168844</td>\n",
       "      <td>2993289125702</td>\n",
       "      <td>Máy tính bảng Samsung Galaxy Tab A7 Lite LTE S...</td>\n",
       "      <td>Galaxy Tab A7 Lite 3GB/32GBGalaxy Tab A7 Lite ...</td>\n",
       "      <td>4990000</td>\n",
       "      <td>4990000</td>\n",
       "      <td>4990000</td>\n",
       "      <td>662</td>\n",
       "      <td>662</td>\n",
       "      <td>available</td>\n",
       "      <td>...</td>\n",
       "      <td>1794</td>\n",
       "      <td>Máy tính bảng</td>\n",
       "      <td>201</td>\n",
       "      <td>5.0</td>\n",
       "      <td>0</td>\n",
       "      <td>Thưởng 24,95 ASA (≈ 5.439đ)</td>\n",
       "      <td>{'title': 'Trả góp 0%', 'summary': 'Mua trước ...</td>\n",
       "      <td>HAPPY PHONE</td>\n",
       "      <td>742</td>\n",
       "      <td>12 Tháng</td>\n",
       "    </tr>\n",
       "    <tr>\n",
       "      <th>2</th>\n",
       "      <td>91612670</td>\n",
       "      <td>6549204947898</td>\n",
       "      <td>Điện Thoại Oppo A54 (4GB/128GB) - Hàng Chính Hãng</td>\n",
       "      <td>Thiết kế tinh xảo với mặt lưng bóng bẩyĐiện th...</td>\n",
       "      <td>5990000</td>\n",
       "      <td>5990000</td>\n",
       "      <td>3250000</td>\n",
       "      <td>6403</td>\n",
       "      <td>6403</td>\n",
       "      <td>available</td>\n",
       "      <td>...</td>\n",
       "      <td>1795</td>\n",
       "      <td>Điện thoại Smartphone</td>\n",
       "      <td>69</td>\n",
       "      <td>4.8</td>\n",
       "      <td>0</td>\n",
       "      <td>Thưởng 16,25 ASA (≈ 3.542đ)</td>\n",
       "      <td>{'title': 'Trả góp', 'summary': '270.833 ₫/thá...</td>\n",
       "      <td>Tiki Trading</td>\n",
       "      <td>791</td>\n",
       "      <td>12 Tháng</td>\n",
       "    </tr>\n",
       "    <tr>\n",
       "      <th>3</th>\n",
       "      <td>177343384</td>\n",
       "      <td>3152292271068</td>\n",
       "      <td>Điện Thoại Oppo Reno 7 4G (8GB/128G) - Hàng Ch...</td>\n",
       "      <td>Thiết kế đẹp mắtĐiện Thoại Oppo Reno 7 4G có t...</td>\n",
       "      <td>8990000</td>\n",
       "      <td>8990000</td>\n",
       "      <td>5790000</td>\n",
       "      <td>532</td>\n",
       "      <td>532</td>\n",
       "      <td>available</td>\n",
       "      <td>...</td>\n",
       "      <td>1795</td>\n",
       "      <td>Điện thoại Smartphone</td>\n",
       "      <td>102</td>\n",
       "      <td>5.0</td>\n",
       "      <td>0</td>\n",
       "      <td>Thưởng 28,95 ASA (≈ 6.311đ)</td>\n",
       "      <td>{'title': 'Trả góp', 'summary': '482.500 ₫/thá...</td>\n",
       "      <td>Tiki Trading</td>\n",
       "      <td>415</td>\n",
       "      <td>12 Tháng</td>\n",
       "    </tr>\n",
       "    <tr>\n",
       "      <th>4</th>\n",
       "      <td>247892412</td>\n",
       "      <td>4237774160715</td>\n",
       "      <td>Chai xịt khử mùi giày dép William Weir, chiết ...</td>\n",
       "      <td>...</td>\n",
       "      <td>45000</td>\n",
       "      <td>45000</td>\n",
       "      <td>30600</td>\n",
       "      <td>145</td>\n",
       "      <td>145</td>\n",
       "      <td>available</td>\n",
       "      <td>...</td>\n",
       "      <td>1686</td>\n",
       "      <td>Giày - Dép nam</td>\n",
       "      <td>6</td>\n",
       "      <td>4.8</td>\n",
       "      <td>0</td>\n",
       "      <td>Thưởng 0,15 ASA (≈ 33đ)</td>\n",
       "      <td>None</td>\n",
       "      <td>Moonuji</td>\n",
       "      <td>91</td>\n",
       "      <td>Xem chi tiết</td>\n",
       "    </tr>\n",
       "  </tbody>\n",
       "</table>\n",
       "<p>5 rows × 22 columns</p>\n",
       "</div>"
      ],
      "text/plain": [
       "          id            sku  \\\n",
       "0  250109584  5991957515400   \n",
       "1  103168844  2993289125702   \n",
       "2   91612670  6549204947898   \n",
       "3  177343384  3152292271068   \n",
       "4  247892412  4237774160715   \n",
       "\n",
       "                                                name  \\\n",
       "0  Điện thoại Xiaomi Redmi Note 12 (4GB/128GB) - ...   \n",
       "1  Máy tính bảng Samsung Galaxy Tab A7 Lite LTE S...   \n",
       "2  Điện Thoại Oppo A54 (4GB/128GB) - Hàng Chính Hãng   \n",
       "3  Điện Thoại Oppo Reno 7 4G (8GB/128G) - Hàng Ch...   \n",
       "4  Chai xịt khử mùi giày dép William Weir, chiết ...   \n",
       "\n",
       "                                         discription  original_price  \\\n",
       "0  Xiaomi Redmi Note 12 4GB có thể xem là cái tên...         4990000   \n",
       "1  Galaxy Tab A7 Lite 3GB/32GBGalaxy Tab A7 Lite ...         4990000   \n",
       "2  Thiết kế tinh xảo với mặt lưng bóng bẩyĐiện th...         5990000   \n",
       "3  Thiết kế đẹp mắtĐiện Thoại Oppo Reno 7 4G có t...         8990000   \n",
       "4                                                ...           45000   \n",
       "\n",
       "   list_price    price  alltime_quantity_sold  quantity_sold inventory_status  \\\n",
       "0     4990000  3939000                     46             46        available   \n",
       "1     4990000  4990000                    662            662        available   \n",
       "2     5990000  3250000                   6403           6403        available   \n",
       "3     8990000  5790000                    532            532        available   \n",
       "4       45000    30600                    145            145        available   \n",
       "\n",
       "   ... category_id               category  review_count rating_average  \\\n",
       "0  ...        1795  Điện thoại Smartphone            16            5.0   \n",
       "1  ...        1794          Máy tính bảng           201            5.0   \n",
       "2  ...        1795  Điện thoại Smartphone            69            4.8   \n",
       "3  ...        1795  Điện thoại Smartphone           102            5.0   \n",
       "4  ...        1686         Giày - Dép nam             6            4.8   \n",
       "\n",
       "   favourite_count                 ASA_cashback  \\\n",
       "0                0  Thưởng 19,70 ASA (≈ 4.293đ)   \n",
       "1                0  Thưởng 24,95 ASA (≈ 5.439đ)   \n",
       "2                0  Thưởng 16,25 ASA (≈ 3.542đ)   \n",
       "3                0  Thưởng 28,95 ASA (≈ 6.311đ)   \n",
       "4                0      Thưởng 0,15 ASA (≈ 33đ)   \n",
       "\n",
       "                                           pay_later current_seller  \\\n",
       "0  {'title': 'Trả góp', 'summary': '328.250 ₫/thá...    HAPPY PHONE   \n",
       "1  {'title': 'Trả góp 0%', 'summary': 'Mua trước ...    HAPPY PHONE   \n",
       "2  {'title': 'Trả góp', 'summary': '270.833 ₫/thá...   Tiki Trading   \n",
       "3  {'title': 'Trả góp', 'summary': '482.500 ₫/thá...   Tiki Trading   \n",
       "4                                               None        Moonuji   \n",
       "\n",
       "  date_created       waranty  \n",
       "0           70      18 Tháng  \n",
       "1          742      12 Tháng  \n",
       "2          791      12 Tháng  \n",
       "3          415      12 Tháng  \n",
       "4           91  Xem chi tiết  \n",
       "\n",
       "[5 rows x 22 columns]"
      ]
     },
     "execution_count": 62,
     "metadata": {},
     "output_type": "execute_result"
    }
   ],
   "source": [
    "product_info"
   ]
  }
 ],
 "metadata": {
  "kernelspec": {
   "display_name": "base",
   "language": "python",
   "name": "python3"
  },
  "language_info": {
   "codemirror_mode": {
    "name": "ipython",
    "version": 3
   },
   "file_extension": ".py",
   "mimetype": "text/x-python",
   "name": "python",
   "nbconvert_exporter": "python",
   "pygments_lexer": "ipython3",
   "version": "3.9.13"
  },
  "orig_nbformat": 4
 },
 "nbformat": 4,
 "nbformat_minor": 2
}
