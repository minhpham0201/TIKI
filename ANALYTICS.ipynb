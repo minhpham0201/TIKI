{
 "cells": [
  {
   "cell_type": "code",
   "execution_count": 101,
   "metadata": {},
   "outputs": [],
   "source": [
    "import pandas as pd\n",
    "from datetime import datetime\n",
    "pd.set_option('display.max_columns',30)"
   ]
  },
  {
   "cell_type": "code",
   "execution_count": 102,
   "metadata": {},
   "outputs": [],
   "source": [
    "giay_nam = pd.read_csv('D:\\TIKI\\giay-nam.csv')\n",
    "giay_nu = pd.read_csv('D:\\TIKI\\giay-nu.csv')\n",
    "giay_nam = giay_nam.drop(columns=['Unnamed: 0'])\n",
    "giay_nu = giay_nu.drop(columns=['Unnamed: 0'])"
   ]
  },
  {
   "cell_type": "code",
   "execution_count": 103,
   "metadata": {},
   "outputs": [],
   "source": [
    "giay_nam_id = pd.read_csv('giay-nam-id.csv',usecols=['product_id','category_name'])\n",
    "giay_nu_id = pd.read_csv('giay-nu-id.csv',usecols=['product_id','category_name'])\n",
    "giay_nam_id = giay_nam_id.drop_duplicates()\n",
    "giay_nu_id = giay_nu_id.drop_duplicates()"
   ]
  },
  {
   "cell_type": "code",
   "execution_count": 104,
   "metadata": {},
   "outputs": [],
   "source": [
    "giay_nam = giay_nam.merge(giay_nam_id,left_on='id',right_on='product_id',how='left')\n",
    "giay_nu = giay_nu.merge(giay_nu_id,left_on='id',right_on='product_id',how='left')\n",
    "giay_nam = giay_nam.drop(columns=['product_id'])\n",
    "giay_nu = giay_nu.drop(columns=['product_id'])"
   ]
  },
  {
   "cell_type": "code",
   "execution_count": 105,
   "metadata": {},
   "outputs": [],
   "source": [
    "#I add tag 'man' / 'woman' into category_name to ensure that there are no identical category name in both table when concatenated later\n",
    "giay_nam['category_name'] = 'MAN-'+giay_nam['category_name']\n",
    "giay_nam['root_category'] = 'giay-nam'\n",
    "\n",
    "giay_nu['category_name'] = 'WOMAN-'+giay_nu['category_name']\n",
    "giay_nu['root_category'] = 'giay-nu'"
   ]
  },
  {
   "cell_type": "code",
   "execution_count": 106,
   "metadata": {},
   "outputs": [],
   "source": [
    "last_update = '2023-06-18 18:00:00'\n",
    "concat_df = pd.concat([giay_nam,giay_nu])\n",
    "concat_df['last_update'] = pd.to_datetime(last_update)\n",
    "concat_df = concat_df.reset_index()\n",
    "concat_df = concat_df.drop(columns='index')"
   ]
  },
  {
   "cell_type": "code",
   "execution_count": 107,
   "metadata": {},
   "outputs": [
    {
     "data": {
      "text/html": [
       "<div>\n",
       "<style scoped>\n",
       "    .dataframe tbody tr th:only-of-type {\n",
       "        vertical-align: middle;\n",
       "    }\n",
       "\n",
       "    .dataframe tbody tr th {\n",
       "        vertical-align: top;\n",
       "    }\n",
       "\n",
       "    .dataframe thead th {\n",
       "        text-align: right;\n",
       "    }\n",
       "</style>\n",
       "<table border=\"1\" class=\"dataframe\">\n",
       "  <thead>\n",
       "    <tr style=\"text-align: right;\">\n",
       "      <th></th>\n",
       "      <th>id</th>\n",
       "      <th>sku</th>\n",
       "      <th>name</th>\n",
       "      <th>discription</th>\n",
       "      <th>original_price</th>\n",
       "      <th>list_price</th>\n",
       "      <th>price</th>\n",
       "      <th>alltime_quantity_sold</th>\n",
       "      <th>quantity_sold</th>\n",
       "      <th>inventory_status</th>\n",
       "      <th>fulfillment_type</th>\n",
       "      <th>brand</th>\n",
       "      <th>category_id</th>\n",
       "      <th>category</th>\n",
       "      <th>review_count</th>\n",
       "      <th>rating_average</th>\n",
       "      <th>favourite_count</th>\n",
       "      <th>ASA_cashback</th>\n",
       "      <th>pay_later</th>\n",
       "      <th>current_seller</th>\n",
       "      <th>date_created</th>\n",
       "      <th>video_url</th>\n",
       "      <th>category_name</th>\n",
       "      <th>root_category</th>\n",
       "      <th>last_update</th>\n",
       "    </tr>\n",
       "  </thead>\n",
       "  <tbody>\n",
       "    <tr>\n",
       "      <th>18962</th>\n",
       "      <td>216416795</td>\n",
       "      <td>3598612806613</td>\n",
       "      <td>Hot 2023 Guốc nữ thời trang đẳng cấp quí phái ...</td>\n",
       "      <td>MÔ TẢ SẢN PHẨM   Ra đời tầm hè 2020, nố...</td>\n",
       "      <td>550000</td>\n",
       "      <td>550000</td>\n",
       "      <td>550000</td>\n",
       "      <td>{}</td>\n",
       "      <td>NaN</td>\n",
       "      <td>available</td>\n",
       "      <td>dropship</td>\n",
       "      <td>OEM</td>\n",
       "      <td>2</td>\n",
       "      <td>Root</td>\n",
       "      <td>0</td>\n",
       "      <td>0.0</td>\n",
       "      <td>0</td>\n",
       "      <td>Thưởng 2,75 ASA (≈ 588đ)</td>\n",
       "      <td>{'title': 'Trả góp 0%', 'summary': 'Mua trước ...</td>\n",
       "      <td>Hoa Lan TV</td>\n",
       "      <td>135</td>\n",
       "      <td>NaN</td>\n",
       "      <td>WOMAN-dep-quai-ngang</td>\n",
       "      <td>giay-nu</td>\n",
       "      <td>2023-06-18 18:00:00</td>\n",
       "    </tr>\n",
       "    <tr>\n",
       "      <th>20733</th>\n",
       "      <td>38214285</td>\n",
       "      <td>6812461864114</td>\n",
       "      <td>Giày thể thao PTTT-0130</td>\n",
       "      <td>Giày thể thao PTTT-0130 với thiết kế trẻ trung...</td>\n",
       "      <td>228000</td>\n",
       "      <td>228000</td>\n",
       "      <td>228000</td>\n",
       "      <td>{}</td>\n",
       "      <td>NaN</td>\n",
       "      <td>available</td>\n",
       "      <td>dropship</td>\n",
       "      <td>OEM</td>\n",
       "      <td>2</td>\n",
       "      <td>Root</td>\n",
       "      <td>0</td>\n",
       "      <td>0.0</td>\n",
       "      <td>0</td>\n",
       "      <td>Thưởng 1,14 ASA (≈ 245đ)</td>\n",
       "      <td>{'title': 'Trả góp 0%', 'summary': 'Mua trước ...</td>\n",
       "      <td>GIẦY DÉP PHONG THÚY</td>\n",
       "      <td>1328</td>\n",
       "      <td>NaN</td>\n",
       "      <td>WOMAN-giay-the-thao-co-thap</td>\n",
       "      <td>giay-nu</td>\n",
       "      <td>2023-06-18 18:00:00</td>\n",
       "    </tr>\n",
       "    <tr>\n",
       "      <th>39236</th>\n",
       "      <td>141124111</td>\n",
       "      <td>3455975336062</td>\n",
       "      <td>Giày búp bê nữ BIGGBEN da bò cao cấp BB114</td>\n",
       "      <td>Chất Liệu :Da bò thật 100%Kích Thước :từ 35 đế...</td>\n",
       "      <td>350000</td>\n",
       "      <td>350000</td>\n",
       "      <td>249000</td>\n",
       "      <td>4</td>\n",
       "      <td>4.0</td>\n",
       "      <td>available</td>\n",
       "      <td>dropship</td>\n",
       "      <td>BIGGBEN</td>\n",
       "      <td>49566</td>\n",
       "      <td>Giày búp bê mũi tròn</td>\n",
       "      <td>0</td>\n",
       "      <td>0.0</td>\n",
       "      <td>0</td>\n",
       "      <td>Thưởng 1,25 ASA (≈ 266đ)</td>\n",
       "      <td>{'title': 'Trả góp 0%', 'summary': 'Mua trước ...</td>\n",
       "      <td>Shoes BIGBEN</td>\n",
       "      <td>578</td>\n",
       "      <td>NaN</td>\n",
       "      <td>WOMAN-giay-bup-be-mui-tron</td>\n",
       "      <td>giay-nu</td>\n",
       "      <td>2023-06-18 18:00:00</td>\n",
       "    </tr>\n",
       "  </tbody>\n",
       "</table>\n",
       "</div>"
      ],
      "text/plain": [
       "              id            sku  \\\n",
       "18962  216416795  3598612806613   \n",
       "20733   38214285  6812461864114   \n",
       "39236  141124111  3455975336062   \n",
       "\n",
       "                                                    name  \\\n",
       "18962  Hot 2023 Guốc nữ thời trang đẳng cấp quí phái ...   \n",
       "20733                            Giày thể thao PTTT-0130   \n",
       "39236         Giày búp bê nữ BIGGBEN da bò cao cấp BB114   \n",
       "\n",
       "                                             discription  original_price  \\\n",
       "18962         MÔ TẢ SẢN PHẨM   Ra đời tầm hè 2020, nố...          550000   \n",
       "20733  Giày thể thao PTTT-0130 với thiết kế trẻ trung...          228000   \n",
       "39236  Chất Liệu :Da bò thật 100%Kích Thước :từ 35 đế...          350000   \n",
       "\n",
       "       list_price   price alltime_quantity_sold  quantity_sold  \\\n",
       "18962      550000  550000                    {}            NaN   \n",
       "20733      228000  228000                    {}            NaN   \n",
       "39236      350000  249000                     4            4.0   \n",
       "\n",
       "      inventory_status fulfillment_type    brand  category_id  \\\n",
       "18962        available         dropship      OEM            2   \n",
       "20733        available         dropship      OEM            2   \n",
       "39236        available         dropship  BIGGBEN        49566   \n",
       "\n",
       "                   category  review_count  rating_average  favourite_count  \\\n",
       "18962                  Root             0             0.0                0   \n",
       "20733                  Root             0             0.0                0   \n",
       "39236  Giày búp bê mũi tròn             0             0.0                0   \n",
       "\n",
       "                   ASA_cashback  \\\n",
       "18962  Thưởng 2,75 ASA (≈ 588đ)   \n",
       "20733  Thưởng 1,14 ASA (≈ 245đ)   \n",
       "39236  Thưởng 1,25 ASA (≈ 266đ)   \n",
       "\n",
       "                                               pay_later       current_seller  \\\n",
       "18962  {'title': 'Trả góp 0%', 'summary': 'Mua trước ...           Hoa Lan TV   \n",
       "20733  {'title': 'Trả góp 0%', 'summary': 'Mua trước ...  GIẦY DÉP PHONG THÚY   \n",
       "39236  {'title': 'Trả góp 0%', 'summary': 'Mua trước ...         Shoes BIGBEN   \n",
       "\n",
       "       date_created video_url                category_name root_category  \\\n",
       "18962           135       NaN         WOMAN-dep-quai-ngang       giay-nu   \n",
       "20733          1328       NaN  WOMAN-giay-the-thao-co-thap       giay-nu   \n",
       "39236           578       NaN   WOMAN-giay-bup-be-mui-tron       giay-nu   \n",
       "\n",
       "              last_update  \n",
       "18962 2023-06-18 18:00:00  \n",
       "20733 2023-06-18 18:00:00  \n",
       "39236 2023-06-18 18:00:00  "
      ]
     },
     "execution_count": 107,
     "metadata": {},
     "output_type": "execute_result"
    }
   ],
   "source": [
    "concat_df.sample(3)"
   ]
  },
  {
   "attachments": {},
   "cell_type": "markdown",
   "metadata": {},
   "source": [
    "## PREPROCESSING DATA"
   ]
  },
  {
   "cell_type": "code",
   "execution_count": 108,
   "metadata": {},
   "outputs": [
    {
     "name": "stdout",
     "output_type": "stream",
     "text": [
      "<class 'pandas.core.frame.DataFrame'>\n",
      "RangeIndex: 42981 entries, 0 to 42980\n",
      "Data columns (total 25 columns):\n",
      " #   Column                 Non-Null Count  Dtype         \n",
      "---  ------                 --------------  -----         \n",
      " 0   id                     42981 non-null  int64         \n",
      " 1   sku                    42981 non-null  int64         \n",
      " 2   name                   42981 non-null  object        \n",
      " 3   discription            42981 non-null  object        \n",
      " 4   original_price         42981 non-null  int64         \n",
      " 5   list_price             42981 non-null  int64         \n",
      " 6   price                  42981 non-null  int64         \n",
      " 7   alltime_quantity_sold  42981 non-null  object        \n",
      " 8   quantity_sold          13504 non-null  float64       \n",
      " 9   inventory_status       42981 non-null  object        \n",
      " 10  fulfillment_type       42980 non-null  object        \n",
      " 11  brand                  42981 non-null  object        \n",
      " 12  category_id            42981 non-null  int64         \n",
      " 13  category               42981 non-null  object        \n",
      " 14  review_count           42981 non-null  int64         \n",
      " 15  rating_average         42981 non-null  float64       \n",
      " 16  favourite_count        42981 non-null  int64         \n",
      " 17  ASA_cashback           42981 non-null  object        \n",
      " 18  pay_later              33653 non-null  object        \n",
      " 19  current_seller         42981 non-null  object        \n",
      " 20  date_created           42981 non-null  int64         \n",
      " 21  video_url              3500 non-null   object        \n",
      " 22  category_name          42981 non-null  object        \n",
      " 23  root_category          42981 non-null  object        \n",
      " 24  last_update            42981 non-null  datetime64[ns]\n",
      "dtypes: datetime64[ns](1), float64(2), int64(9), object(13)\n",
      "memory usage: 8.2+ MB\n"
     ]
    }
   ],
   "source": [
    "concat_df.info()"
   ]
  },
  {
   "cell_type": "code",
   "execution_count": 109,
   "metadata": {},
   "outputs": [],
   "source": [
    "concat_df['has_video'] = concat_df['video_url'].notna()\n",
    "concat_df['alltime_quantity_sold'] = concat_df['alltime_quantity_sold'].replace('{}',0)\n",
    "concat_df['quantity_sold'] = concat_df['quantity_sold'].fillna(0)\n",
    "concat_df['rating_average'] = concat_df['rating_average']\n",
    "concat_df['ASA_cashback_transformed'] = concat_df['ASA_cashback'].apply(lambda x: float(x.split()[1].replace(',','.')))\n",
    "concat_df['pay_later'] = concat_df['pay_later'].notna()"
   ]
  },
  {
   "attachments": {},
   "cell_type": "markdown",
   "metadata": {},
   "source": [
    "# check duplicate columns"
   ]
  },
  {
   "cell_type": "code",
   "execution_count": 116,
   "metadata": {},
   "outputs": [
    {
     "name": "stdout",
     "output_type": "stream",
     "text": [
      "Empty DataFrame\n",
      "Columns: [id, sku, name, discription, original_price, list_price, price, alltime_quantity_sold, quantity_sold, inventory_status, fulfillment_type, brand, category_id, category, review_count, rating_average, favourite_count, ASA_cashback, pay_later, current_seller, date_created, video_url, category_name, root_category, last_update, has_video, ASA_cashback_transformed]\n",
      "Index: []\n",
      "Empty DataFrame\n",
      "Columns: [id, sku, name, discription, original_price, list_price, price, alltime_quantity_sold, quantity_sold, inventory_status, fulfillment_type, brand, category_id, category, review_count, rating_average, favourite_count, ASA_cashback, pay_later, current_seller, date_created, video_url, category_name, root_category, last_update, has_video, ASA_cashback_transformed]\n",
      "Index: []\n"
     ]
    }
   ],
   "source": [
    "#check 'alltime_quantity_sold' vs 'quantity_sold'\n",
    "print(concat_df.loc[concat_df['alltime_quantity_sold'].astype(float) != concat_df['quantity_sold']])\n",
    "\n",
    "#check 'original_price' vs 'list_price'\n",
    "print(concat_df.loc[concat_df['list_price'] != concat_df['original_price']])"
   ]
  },
  {
   "cell_type": "code",
   "execution_count": 118,
   "metadata": {},
   "outputs": [],
   "source": [
    "concat_df = concat_df.drop(columns=['quantity_sold','original_price'])"
   ]
  },
  {
   "attachments": {},
   "cell_type": "markdown",
   "metadata": {},
   "source": [
    "## DATA VISUALIZATIONS "
   ]
  },
  {
   "cell_type": "code",
   "execution_count": null,
   "metadata": {},
   "outputs": [],
   "source": []
  }
 ],
 "metadata": {
  "kernelspec": {
   "display_name": "base",
   "language": "python",
   "name": "python3"
  },
  "language_info": {
   "codemirror_mode": {
    "name": "ipython",
    "version": 3
   },
   "file_extension": ".py",
   "mimetype": "text/x-python",
   "name": "python",
   "nbconvert_exporter": "python",
   "pygments_lexer": "ipython3",
   "version": "3.9.13"
  },
  "orig_nbformat": 4
 },
 "nbformat": 4,
 "nbformat_minor": 2
}
