{
 "cells": [
  {
   "cell_type": "code",
   "execution_count": 1,
   "metadata": {},
   "outputs": [],
   "source": [
    "import pandas as pd"
   ]
  },
  {
   "cell_type": "code",
   "execution_count": 4,
   "metadata": {},
   "outputs": [],
   "source": [
    "giay_nam = pd.read_csv('D:\\TIKI\\giay-nam.csv')\n",
    "giay_nu = pd.read_csv('D:\\TIKI\\giay-nu.csv')\n",
    "giay_nam = giay_nam.drop(columns=['Unnamed: 0'])\n",
    "giay_nu = giay_nu.drop(columns=['Unnamed: 0'])"
   ]
  },
  {
   "cell_type": "code",
   "execution_count": null,
   "metadata": {},
   "outputs": [],
   "source": []
  },
  {
   "cell_type": "code",
   "execution_count": 7,
   "metadata": {},
   "outputs": [
    {
     "data": {
      "text/plain": [
       "Root                           7945\n",
       "Giày thể thao nam cổ thấp      1444\n",
       "Giày lười da nam               1340\n",
       "Thời Trang                     1180\n",
       "Dép nam quai ngang              880\n",
       "Dép nam xỏ ngón                 832\n",
       "Giày tây nam có dây             666\n",
       "Giày sandals nam quai ngang     586\n",
       "Phụ kiện cho giày nam           539\n",
       "Giày tây nam không dây          431\n",
       "Giày thể thao nam cổ cao        411\n",
       "Giày lười nhựa nam              265\n",
       "Giày boots nam cổ cao           256\n",
       "Vệ sinh giày                    247\n",
       "Giày - Dép nam                  224\n",
       "Giày lười vải nam               157\n",
       "Giày boots nam cổ thấp          140\n",
       "Miếng lót giày nam              138\n",
       "Giày sandals nam quai chéo      127\n",
       "Dép nam đi trong nhà             99\n",
       "Giày tây nam                     32\n",
       "Phụ kiện giày nam                 2\n",
       "Dép quai ngang                    1\n",
       "Giày sandals nam                  1\n",
       "Name: category, dtype: int64"
      ]
     },
     "execution_count": 7,
     "metadata": {},
     "output_type": "execute_result"
    }
   ],
   "source": [
    "giay_nam['category'].value_counts()"
   ]
  }
 ],
 "metadata": {
  "kernelspec": {
   "display_name": "base",
   "language": "python",
   "name": "python3"
  },
  "language_info": {
   "codemirror_mode": {
    "name": "ipython",
    "version": 3
   },
   "file_extension": ".py",
   "mimetype": "text/x-python",
   "name": "python",
   "nbconvert_exporter": "python",
   "pygments_lexer": "ipython3",
   "version": "3.9.13"
  },
  "orig_nbformat": 4
 },
 "nbformat": 4,
 "nbformat_minor": 2
}
