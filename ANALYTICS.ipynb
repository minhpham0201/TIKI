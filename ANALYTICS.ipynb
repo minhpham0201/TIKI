{
 "cells": [
  {
   "cell_type": "code",
   "execution_count": 434,
   "metadata": {},
   "outputs": [],
   "source": [
    "import pandas as pd\n",
    "from datetime import datetime\n",
    "import seaborn as sns\n",
    "import plotly.express as px\n",
    "import matplotlib.pyplot as plt\n",
    "from unidecode import unidecode\n",
    "pd.set_option('display.max_columns',30)"
   ]
  },
  {
   "cell_type": "code",
   "execution_count": 435,
   "metadata": {},
   "outputs": [],
   "source": [
    "giay_nam = pd.read_csv('D:\\TIKI\\giay-nam.csv')\n",
    "giay_nu = pd.read_csv('D:\\TIKI\\giay-nu.csv')\n",
    "giay_nam = giay_nam.drop(columns=['Unnamed: 0'])\n",
    "giay_nu = giay_nu.drop(columns=['Unnamed: 0'])"
   ]
  },
  {
   "cell_type": "code",
   "execution_count": 436,
   "metadata": {},
   "outputs": [],
   "source": [
    "giay_nam_id = pd.read_csv('giay-nam-id.csv',usecols=['product_id','category_name'])\n",
    "giay_nu_id = pd.read_csv('giay-nu-id.csv',usecols=['product_id','category_name'])\n",
    "giay_nam_id = giay_nam_id.drop_duplicates()\n",
    "giay_nu_id = giay_nu_id.drop_duplicates()"
   ]
  },
  {
   "cell_type": "code",
   "execution_count": 437,
   "metadata": {},
   "outputs": [],
   "source": [
    "giay_nam = giay_nam.merge(giay_nam_id,left_on='id',right_on='product_id',how='left')\n",
    "giay_nu = giay_nu.merge(giay_nu_id,left_on='id',right_on='product_id',how='left')\n",
    "giay_nam = giay_nam.drop(columns=['product_id'])\n",
    "giay_nu = giay_nu.drop(columns=['product_id'])"
   ]
  },
  {
   "cell_type": "code",
   "execution_count": 438,
   "metadata": {},
   "outputs": [],
   "source": [
    "#I add tag 'man' / 'woman' into category_name to ensure that there are no identical category name in both table when concatenated later\n",
    "giay_nam['category_name'] = 'MAN-'+giay_nam['category_name']\n",
    "giay_nam['root_category'] = 'giay-nam'\n",
    "\n",
    "giay_nu['category_name'] = 'WOMAN-'+giay_nu['category_name']\n",
    "giay_nu['root_category'] = 'giay-nu'"
   ]
  },
  {
   "cell_type": "code",
   "execution_count": 439,
   "metadata": {},
   "outputs": [],
   "source": [
    "last_update = '2023-06-18 18:00:00'\n",
    "concat_df = pd.concat([giay_nam,giay_nu])\n",
    "concat_df['last_update'] = pd.to_datetime(last_update)\n",
    "concat_df = concat_df.reset_index()\n",
    "concat_df = concat_df.drop(columns='index')\n",
    "concat_df = concat_df.drop_duplicates(subset=['id'])"
   ]
  },
  {
   "cell_type": "code",
   "execution_count": 440,
   "metadata": {},
   "outputs": [
    {
     "data": {
      "text/html": [
       "<div>\n",
       "<style scoped>\n",
       "    .dataframe tbody tr th:only-of-type {\n",
       "        vertical-align: middle;\n",
       "    }\n",
       "\n",
       "    .dataframe tbody tr th {\n",
       "        vertical-align: top;\n",
       "    }\n",
       "\n",
       "    .dataframe thead th {\n",
       "        text-align: right;\n",
       "    }\n",
       "</style>\n",
       "<table border=\"1\" class=\"dataframe\">\n",
       "  <thead>\n",
       "    <tr style=\"text-align: right;\">\n",
       "      <th></th>\n",
       "      <th>id</th>\n",
       "      <th>sku</th>\n",
       "      <th>name</th>\n",
       "      <th>discription</th>\n",
       "      <th>original_price</th>\n",
       "      <th>list_price</th>\n",
       "      <th>price</th>\n",
       "      <th>alltime_quantity_sold</th>\n",
       "      <th>quantity_sold</th>\n",
       "      <th>inventory_status</th>\n",
       "      <th>fulfillment_type</th>\n",
       "      <th>brand</th>\n",
       "      <th>category_id</th>\n",
       "      <th>category</th>\n",
       "      <th>review_count</th>\n",
       "      <th>rating_average</th>\n",
       "      <th>favourite_count</th>\n",
       "      <th>ASA_cashback</th>\n",
       "      <th>pay_later</th>\n",
       "      <th>current_seller</th>\n",
       "      <th>date_created</th>\n",
       "      <th>video_url</th>\n",
       "      <th>category_name</th>\n",
       "      <th>root_category</th>\n",
       "      <th>last_update</th>\n",
       "    </tr>\n",
       "  </thead>\n",
       "  <tbody>\n",
       "    <tr>\n",
       "      <th>34800</th>\n",
       "      <td>155110908</td>\n",
       "      <td>2889838869667</td>\n",
       "      <td>Sandal unisex nam nữ quai ngang cao cấp hiệu M...</td>\n",
       "      <td>THÔNG TIN SẢN PHẨM- Thương hiệu: MOL- Mã sản p...</td>\n",
       "      <td>310000</td>\n",
       "      <td>310000</td>\n",
       "      <td>310000</td>\n",
       "      <td>6</td>\n",
       "      <td>6.0</td>\n",
       "      <td>available</td>\n",
       "      <td>dropship</td>\n",
       "      <td>MOL</td>\n",
       "      <td>49556</td>\n",
       "      <td>Giày sandals đế bằng</td>\n",
       "      <td>2</td>\n",
       "      <td>4.5</td>\n",
       "      <td>0</td>\n",
       "      <td>Thưởng 70,25 ASA (≈ 15.033đ)</td>\n",
       "      <td>{'title': 'Trả góp 0%', 'summary': 'Mua trước ...</td>\n",
       "      <td>MOL VN</td>\n",
       "      <td>530</td>\n",
       "      <td>NaN</td>\n",
       "      <td>WOMAN-giay-sandals-de-bang</td>\n",
       "      <td>giay-nu</td>\n",
       "      <td>2023-06-18 18:00:00</td>\n",
       "    </tr>\n",
       "    <tr>\n",
       "      <th>28548</th>\n",
       "      <td>207726090</td>\n",
       "      <td>2886070519607</td>\n",
       "      <td>Giày Cao Gót Nữ BIGGBEN Da Bò Thật Gót 6 Phân ...</td>\n",
       "      <td>Sandal Nữ sản phẩm được thiết kế bền đẹp kết h...</td>\n",
       "      <td>420000</td>\n",
       "      <td>420000</td>\n",
       "      <td>259000</td>\n",
       "      <td>2</td>\n",
       "      <td>2.0</td>\n",
       "      <td>available</td>\n",
       "      <td>dropship</td>\n",
       "      <td>BIGGBEN</td>\n",
       "      <td>49548</td>\n",
       "      <td>Giày cao gót hở mũi</td>\n",
       "      <td>2</td>\n",
       "      <td>5.0</td>\n",
       "      <td>0</td>\n",
       "      <td>Thưởng 1,29 ASA (≈ 278đ)</td>\n",
       "      <td>{'title': 'Trả góp 0%', 'summary': 'Mua trước ...</td>\n",
       "      <td>Shoes BIGBEN</td>\n",
       "      <td>200</td>\n",
       "      <td>NaN</td>\n",
       "      <td>WOMAN-giay-cao-got-ho-mui</td>\n",
       "      <td>giay-nu</td>\n",
       "      <td>2023-06-18 18:00:00</td>\n",
       "    </tr>\n",
       "    <tr>\n",
       "      <th>9061</th>\n",
       "      <td>101657409</td>\n",
       "      <td>8675116360413</td>\n",
       "      <td>Giày Tăng Chiều Cao 6cm Giầy Tăng Chiều Cao Na...</td>\n",
       "      <td>Giày Tăng Chiều Cao 6cm với chất liệu ...</td>\n",
       "      <td>605000</td>\n",
       "      <td>605000</td>\n",
       "      <td>605000</td>\n",
       "      <td>1</td>\n",
       "      <td>1.0</td>\n",
       "      <td>available</td>\n",
       "      <td>dropship</td>\n",
       "      <td>OEM</td>\n",
       "      <td>49630</td>\n",
       "      <td>Giày tây nam có dây</td>\n",
       "      <td>0</td>\n",
       "      <td>0.0</td>\n",
       "      <td>0</td>\n",
       "      <td>Thưởng 3,02 ASA (≈ 653đ)</td>\n",
       "      <td>{'title': 'Trả góp 0%', 'summary': 'Mua trước ...</td>\n",
       "      <td>Sans Shop Fashion</td>\n",
       "      <td>752</td>\n",
       "      <td>https://sand.tikicdn.com/ts/video/ae/38/5f/e3b...</td>\n",
       "      <td>MAN-giay-tay-nam-co-day</td>\n",
       "      <td>giay-nam</td>\n",
       "      <td>2023-06-18 18:00:00</td>\n",
       "    </tr>\n",
       "  </tbody>\n",
       "</table>\n",
       "</div>"
      ],
      "text/plain": [
       "              id            sku  \\\n",
       "34800  155110908  2889838869667   \n",
       "28548  207726090  2886070519607   \n",
       "9061   101657409  8675116360413   \n",
       "\n",
       "                                                    name  \\\n",
       "34800  Sandal unisex nam nữ quai ngang cao cấp hiệu M...   \n",
       "28548  Giày Cao Gót Nữ BIGGBEN Da Bò Thật Gót 6 Phân ...   \n",
       "9061   Giày Tăng Chiều Cao 6cm Giầy Tăng Chiều Cao Na...   \n",
       "\n",
       "                                             discription  original_price  \\\n",
       "34800  THÔNG TIN SẢN PHẨM- Thương hiệu: MOL- Mã sản p...          310000   \n",
       "28548  Sandal Nữ sản phẩm được thiết kế bền đẹp kết h...          420000   \n",
       "9061           Giày Tăng Chiều Cao 6cm với chất liệu ...          605000   \n",
       "\n",
       "       list_price   price alltime_quantity_sold  quantity_sold  \\\n",
       "34800      310000  310000                     6            6.0   \n",
       "28548      420000  259000                     2            2.0   \n",
       "9061       605000  605000                     1            1.0   \n",
       "\n",
       "      inventory_status fulfillment_type    brand  category_id  \\\n",
       "34800        available         dropship      MOL        49556   \n",
       "28548        available         dropship  BIGGBEN        49548   \n",
       "9061         available         dropship      OEM        49630   \n",
       "\n",
       "                   category  review_count  rating_average  favourite_count  \\\n",
       "34800  Giày sandals đế bằng             2             4.5                0   \n",
       "28548   Giày cao gót hở mũi             2             5.0                0   \n",
       "9061    Giày tây nam có dây             0             0.0                0   \n",
       "\n",
       "                       ASA_cashback  \\\n",
       "34800  Thưởng 70,25 ASA (≈ 15.033đ)   \n",
       "28548      Thưởng 1,29 ASA (≈ 278đ)   \n",
       "9061       Thưởng 3,02 ASA (≈ 653đ)   \n",
       "\n",
       "                                               pay_later     current_seller  \\\n",
       "34800  {'title': 'Trả góp 0%', 'summary': 'Mua trước ...             MOL VN   \n",
       "28548  {'title': 'Trả góp 0%', 'summary': 'Mua trước ...       Shoes BIGBEN   \n",
       "9061   {'title': 'Trả góp 0%', 'summary': 'Mua trước ...  Sans Shop Fashion   \n",
       "\n",
       "       date_created                                          video_url  \\\n",
       "34800           530                                                NaN   \n",
       "28548           200                                                NaN   \n",
       "9061            752  https://sand.tikicdn.com/ts/video/ae/38/5f/e3b...   \n",
       "\n",
       "                    category_name root_category         last_update  \n",
       "34800  WOMAN-giay-sandals-de-bang       giay-nu 2023-06-18 18:00:00  \n",
       "28548   WOMAN-giay-cao-got-ho-mui       giay-nu 2023-06-18 18:00:00  \n",
       "9061      MAN-giay-tay-nam-co-day      giay-nam 2023-06-18 18:00:00  "
      ]
     },
     "execution_count": 440,
     "metadata": {},
     "output_type": "execute_result"
    }
   ],
   "source": [
    "concat_df.sample(3)"
   ]
  },
  {
   "attachments": {},
   "cell_type": "markdown",
   "metadata": {},
   "source": [
    "## PREPROCESSING DATA"
   ]
  },
  {
   "cell_type": "code",
   "execution_count": 441,
   "metadata": {},
   "outputs": [
    {
     "name": "stdout",
     "output_type": "stream",
     "text": [
      "<class 'pandas.core.frame.DataFrame'>\n",
      "Int64Index: 42648 entries, 0 to 42980\n",
      "Data columns (total 25 columns):\n",
      " #   Column                 Non-Null Count  Dtype         \n",
      "---  ------                 --------------  -----         \n",
      " 0   id                     42648 non-null  int64         \n",
      " 1   sku                    42648 non-null  int64         \n",
      " 2   name                   42648 non-null  object        \n",
      " 3   discription            42648 non-null  object        \n",
      " 4   original_price         42648 non-null  int64         \n",
      " 5   list_price             42648 non-null  int64         \n",
      " 6   price                  42648 non-null  int64         \n",
      " 7   alltime_quantity_sold  42648 non-null  object        \n",
      " 8   quantity_sold          13295 non-null  float64       \n",
      " 9   inventory_status       42648 non-null  object        \n",
      " 10  fulfillment_type       42647 non-null  object        \n",
      " 11  brand                  42648 non-null  object        \n",
      " 12  category_id            42648 non-null  int64         \n",
      " 13  category               42648 non-null  object        \n",
      " 14  review_count           42648 non-null  int64         \n",
      " 15  rating_average         42648 non-null  float64       \n",
      " 16  favourite_count        42648 non-null  int64         \n",
      " 17  ASA_cashback           42648 non-null  object        \n",
      " 18  pay_later              33547 non-null  object        \n",
      " 19  current_seller         42648 non-null  object        \n",
      " 20  date_created           42648 non-null  int64         \n",
      " 21  video_url              3481 non-null   object        \n",
      " 22  category_name          42648 non-null  object        \n",
      " 23  root_category          42648 non-null  object        \n",
      " 24  last_update            42648 non-null  datetime64[ns]\n",
      "dtypes: datetime64[ns](1), float64(2), int64(9), object(13)\n",
      "memory usage: 8.5+ MB\n"
     ]
    }
   ],
   "source": [
    "concat_df.info()"
   ]
  },
  {
   "cell_type": "code",
   "execution_count": 442,
   "metadata": {},
   "outputs": [],
   "source": [
    "concat_df['has_video'] = concat_df['video_url'].notna()\n",
    "concat_df['alltime_quantity_sold'] = concat_df['alltime_quantity_sold'].replace('{}',0).astype(int)\n",
    "concat_df['quantity_sold'] = concat_df['quantity_sold'].fillna(0)\n",
    "concat_df['rating_average'] = concat_df['rating_average']\n",
    "concat_df['ASA_cashback_transformed'] = concat_df['ASA_cashback'].apply(lambda x: float(x.split()[1].replace(',','.')))\n",
    "concat_df['pay_later'] = concat_df['pay_later'].notna()\n",
    "concat_df['brand'] = concat_df['brand'].replace('\\tOEM','OEM')\n",
    "concat_df['discount_rate'] = (concat_df['list_price'] - concat_df['price']) / concat_df['list_price']"
   ]
  },
  {
   "cell_type": "code",
   "execution_count": 443,
   "metadata": {},
   "outputs": [],
   "source": [
    "#In my random investigation of item name, i found out that there are a number of products which are actually not shoes but classified\n",
    "# in shoes category(both men's and women's)\n",
    "keyword = ['giay', 'dep', 'boot', 'boots', 'guoc','xuc', 'suc', 'sandal','sandals', 'got', 'xang dan',\n",
    "           'sandan', 'chai', 've sinh', 'dung', 'bot', 'sneaker', 'sneakers', 'ung','tong','crocs',\n",
    "           'marten']\n",
    "ascii_keywords = [unidecode(word) for word in keyword]\n",
    "\n",
    "concat_df['name_normal'] = concat_df['name'].str.lower().apply(unidecode)\n",
    "concat_df['discription_normal'] = concat_df['discription'].str.lower().apply(unidecode)\n",
    "\n",
    "concat_df = concat_df.loc[((concat_df['name_normal'].str.contains('|'.join(ascii_keywords))) | (concat_df['discription_normal'].str.contains('|'.join(ascii_keywords))))]"
   ]
  },
  {
   "attachments": {},
   "cell_type": "markdown",
   "metadata": {},
   "source": [
    "the results has filtered out >200 id not relevant. Mostly socks, shirts, etc."
   ]
  },
  {
   "attachments": {},
   "cell_type": "markdown",
   "metadata": {},
   "source": [
    "# check duplicate columns"
   ]
  },
  {
   "cell_type": "code",
   "execution_count": 444,
   "metadata": {},
   "outputs": [
    {
     "name": "stdout",
     "output_type": "stream",
     "text": [
      "Empty DataFrame\n",
      "Columns: [id, sku, name, discription, original_price, list_price, price, alltime_quantity_sold, quantity_sold, inventory_status, fulfillment_type, brand, category_id, category, review_count, rating_average, favourite_count, ASA_cashback, pay_later, current_seller, date_created, video_url, category_name, root_category, last_update, has_video, ASA_cashback_transformed, discount_rate, name_normal, discription_normal]\n",
      "Index: []\n",
      "Empty DataFrame\n",
      "Columns: [id, sku, name, discription, original_price, list_price, price, alltime_quantity_sold, quantity_sold, inventory_status, fulfillment_type, brand, category_id, category, review_count, rating_average, favourite_count, ASA_cashback, pay_later, current_seller, date_created, video_url, category_name, root_category, last_update, has_video, ASA_cashback_transformed, discount_rate, name_normal, discription_normal]\n",
      "Index: []\n"
     ]
    }
   ],
   "source": [
    "#check 'alltime_quantity_sold' vs 'quantity_sold'\n",
    "print(concat_df.loc[concat_df['alltime_quantity_sold'].astype(float) != concat_df['quantity_sold']])\n",
    "\n",
    "#check 'original_price' vs 'list_price'\n",
    "print(concat_df.loc[concat_df['list_price'] != concat_df['original_price']])"
   ]
  },
  {
   "cell_type": "code",
   "execution_count": 445,
   "metadata": {},
   "outputs": [],
   "source": [
    "concat_df = concat_df.drop(columns=['quantity_sold','original_price'])"
   ]
  },
  {
   "attachments": {},
   "cell_type": "markdown",
   "metadata": {},
   "source": [
    "## DATA SUMMARY "
   ]
  },
  {
   "cell_type": "code",
   "execution_count": 446,
   "metadata": {},
   "outputs": [
    {
     "data": {
      "text/html": [
       "<div>\n",
       "<style scoped>\n",
       "    .dataframe tbody tr th:only-of-type {\n",
       "        vertical-align: middle;\n",
       "    }\n",
       "\n",
       "    .dataframe tbody tr th {\n",
       "        vertical-align: top;\n",
       "    }\n",
       "\n",
       "    .dataframe thead th {\n",
       "        text-align: right;\n",
       "    }\n",
       "</style>\n",
       "<table border=\"1\" class=\"dataframe\">\n",
       "  <thead>\n",
       "    <tr style=\"text-align: right;\">\n",
       "      <th></th>\n",
       "      <th>id</th>\n",
       "      <th>sku</th>\n",
       "      <th>name</th>\n",
       "      <th>discription</th>\n",
       "      <th>list_price</th>\n",
       "      <th>price</th>\n",
       "      <th>alltime_quantity_sold</th>\n",
       "      <th>inventory_status</th>\n",
       "      <th>fulfillment_type</th>\n",
       "      <th>brand</th>\n",
       "      <th>category_id</th>\n",
       "      <th>category</th>\n",
       "      <th>review_count</th>\n",
       "      <th>rating_average</th>\n",
       "      <th>favourite_count</th>\n",
       "      <th>ASA_cashback</th>\n",
       "      <th>pay_later</th>\n",
       "      <th>current_seller</th>\n",
       "      <th>date_created</th>\n",
       "      <th>video_url</th>\n",
       "      <th>category_name</th>\n",
       "      <th>root_category</th>\n",
       "      <th>last_update</th>\n",
       "      <th>has_video</th>\n",
       "      <th>ASA_cashback_transformed</th>\n",
       "      <th>discount_rate</th>\n",
       "      <th>name_normal</th>\n",
       "      <th>discription_normal</th>\n",
       "    </tr>\n",
       "  </thead>\n",
       "  <tbody>\n",
       "    <tr>\n",
       "      <th>15927</th>\n",
       "      <td>205526961</td>\n",
       "      <td>2609378031271</td>\n",
       "      <td>Giày Tây Nam Da Bóng Khóa Kim Loại Lịch Lãm ( ...</td>\n",
       "      <td>Giày được thiết kế tinh tế , sang trọng với ...</td>\n",
       "      <td>195000</td>\n",
       "      <td>149000</td>\n",
       "      <td>0</td>\n",
       "      <td>available</td>\n",
       "      <td>dropship</td>\n",
       "      <td>OEM</td>\n",
       "      <td>49626</td>\n",
       "      <td>Giày lười da nam</td>\n",
       "      <td>0</td>\n",
       "      <td>0.0</td>\n",
       "      <td>0</td>\n",
       "      <td>Thưởng 0,74 ASA (≈ 160đ)</td>\n",
       "      <td>True</td>\n",
       "      <td>Giày da thật 24H</td>\n",
       "      <td>216</td>\n",
       "      <td>NaN</td>\n",
       "      <td>MAN-giay-luoi-da-nam</td>\n",
       "      <td>giay-nam</td>\n",
       "      <td>2023-06-18 18:00:00</td>\n",
       "      <td>False</td>\n",
       "      <td>0.74</td>\n",
       "      <td>0.235897</td>\n",
       "      <td>giay tay nam da bong khoa kim loai lich lam ( ...</td>\n",
       "      <td>giay duoc thiet ke tinh te , sang trong voi ...</td>\n",
       "    </tr>\n",
       "    <tr>\n",
       "      <th>17889</th>\n",
       "      <td>103938871</td>\n",
       "      <td>3320466418543</td>\n",
       "      <td>Dép xỏ ngón Unisex Crocs Crocband Printed 205943</td>\n",
       "      <td>Kiểu dáng Thể thao và Siêu nhẹ. Sở hữu thiết k...</td>\n",
       "      <td>895000</td>\n",
       "      <td>448000</td>\n",
       "      <td>38</td>\n",
       "      <td>available</td>\n",
       "      <td>dropship</td>\n",
       "      <td>Crocs</td>\n",
       "      <td>10383</td>\n",
       "      <td>Dép nam xỏ ngón</td>\n",
       "      <td>4</td>\n",
       "      <td>5.0</td>\n",
       "      <td>0</td>\n",
       "      <td>Thưởng 2,24 ASA (≈ 481đ)</td>\n",
       "      <td>True</td>\n",
       "      <td>Supersports Vietnam</td>\n",
       "      <td>741</td>\n",
       "      <td>NaN</td>\n",
       "      <td>MAN-dep-nam-xo-ngon</td>\n",
       "      <td>giay-nam</td>\n",
       "      <td>2023-06-18 18:00:00</td>\n",
       "      <td>False</td>\n",
       "      <td>2.24</td>\n",
       "      <td>0.499441</td>\n",
       "      <td>dep xo ngon unisex crocs crocband printed 205943</td>\n",
       "      <td>kieu dang the thao va sieu nhe. so huu thiet k...</td>\n",
       "    </tr>\n",
       "    <tr>\n",
       "      <th>23501</th>\n",
       "      <td>204429922</td>\n",
       "      <td>8882920273802</td>\n",
       "      <td>Sandals Cao Gót Quai Trong Đính Đá Exull Mode ...</td>\n",
       "      <td>- Màu Sắc: Màu Bạc hoặc Hồng quai trong đính đ...</td>\n",
       "      <td>1799000</td>\n",
       "      <td>1799000</td>\n",
       "      <td>0</td>\n",
       "      <td>available</td>\n",
       "      <td>dropship</td>\n",
       "      <td>Exull</td>\n",
       "      <td>49544</td>\n",
       "      <td>Giày cao gót quai sau</td>\n",
       "      <td>0</td>\n",
       "      <td>0.0</td>\n",
       "      <td>0</td>\n",
       "      <td>Thưởng 8,99 ASA (≈ 1.924đ)</td>\n",
       "      <td>True</td>\n",
       "      <td>EXULL OFFICIAL</td>\n",
       "      <td>225</td>\n",
       "      <td>NaN</td>\n",
       "      <td>WOMAN-giay-cao-got-quai-sau</td>\n",
       "      <td>giay-nu</td>\n",
       "      <td>2023-06-18 18:00:00</td>\n",
       "      <td>False</td>\n",
       "      <td>8.99</td>\n",
       "      <td>0.000000</td>\n",
       "      <td>sandals cao got quai trong dinh da exull mode ...</td>\n",
       "      <td>- mau sac: mau bac hoac hong quai trong dinh d...</td>\n",
       "    </tr>\n",
       "  </tbody>\n",
       "</table>\n",
       "</div>"
      ],
      "text/plain": [
       "              id            sku  \\\n",
       "15927  205526961  2609378031271   \n",
       "17889  103938871  3320466418543   \n",
       "23501  204429922  8882920273802   \n",
       "\n",
       "                                                    name  \\\n",
       "15927  Giày Tây Nam Da Bóng Khóa Kim Loại Lịch Lãm ( ...   \n",
       "17889   Dép xỏ ngón Unisex Crocs Crocband Printed 205943   \n",
       "23501  Sandals Cao Gót Quai Trong Đính Đá Exull Mode ...   \n",
       "\n",
       "                                             discription  list_price    price  \\\n",
       "15927    Giày được thiết kế tinh tế , sang trọng với ...      195000   149000   \n",
       "17889  Kiểu dáng Thể thao và Siêu nhẹ. Sở hữu thiết k...      895000   448000   \n",
       "23501  - Màu Sắc: Màu Bạc hoặc Hồng quai trong đính đ...     1799000  1799000   \n",
       "\n",
       "       alltime_quantity_sold inventory_status fulfillment_type  brand  \\\n",
       "15927                      0        available         dropship    OEM   \n",
       "17889                     38        available         dropship  Crocs   \n",
       "23501                      0        available         dropship  Exull   \n",
       "\n",
       "       category_id               category  review_count  rating_average  \\\n",
       "15927        49626       Giày lười da nam             0             0.0   \n",
       "17889        10383        Dép nam xỏ ngón             4             5.0   \n",
       "23501        49544  Giày cao gót quai sau             0             0.0   \n",
       "\n",
       "       favourite_count                ASA_cashback  pay_later  \\\n",
       "15927                0    Thưởng 0,74 ASA (≈ 160đ)       True   \n",
       "17889                0    Thưởng 2,24 ASA (≈ 481đ)       True   \n",
       "23501                0  Thưởng 8,99 ASA (≈ 1.924đ)       True   \n",
       "\n",
       "            current_seller  date_created video_url  \\\n",
       "15927     Giày da thật 24H           216       NaN   \n",
       "17889  Supersports Vietnam           741       NaN   \n",
       "23501       EXULL OFFICIAL           225       NaN   \n",
       "\n",
       "                     category_name root_category         last_update  \\\n",
       "15927         MAN-giay-luoi-da-nam      giay-nam 2023-06-18 18:00:00   \n",
       "17889          MAN-dep-nam-xo-ngon      giay-nam 2023-06-18 18:00:00   \n",
       "23501  WOMAN-giay-cao-got-quai-sau       giay-nu 2023-06-18 18:00:00   \n",
       "\n",
       "       has_video  ASA_cashback_transformed  discount_rate  \\\n",
       "15927      False                      0.74       0.235897   \n",
       "17889      False                      2.24       0.499441   \n",
       "23501      False                      8.99       0.000000   \n",
       "\n",
       "                                             name_normal  \\\n",
       "15927  giay tay nam da bong khoa kim loai lich lam ( ...   \n",
       "17889   dep xo ngon unisex crocs crocband printed 205943   \n",
       "23501  sandals cao got quai trong dinh da exull mode ...   \n",
       "\n",
       "                                      discription_normal  \n",
       "15927    giay duoc thiet ke tinh te , sang trong voi ...  \n",
       "17889  kieu dang the thao va sieu nhe. so huu thiet k...  \n",
       "23501  - mau sac: mau bac hoac hong quai trong dinh d...  "
      ]
     },
     "execution_count": 446,
     "metadata": {},
     "output_type": "execute_result"
    }
   ],
   "source": [
    "concat_df.sample(3)"
   ]
  },
  {
   "cell_type": "code",
   "execution_count": 447,
   "metadata": {},
   "outputs": [
    {
     "data": {
      "text/plain": [
       "dropship           42060\n",
       "seller_delivery      216\n",
       "tiki_delivery        166\n",
       "cross_border           1\n",
       "Name: fulfillment_type, dtype: int64"
      ]
     },
     "execution_count": 447,
     "metadata": {},
     "output_type": "execute_result"
    }
   ],
   "source": [
    "concat_df['fulfillment_type'].value_counts()"
   ]
  },
  {
   "cell_type": "code",
   "execution_count": 448,
   "metadata": {},
   "outputs": [
    {
     "data": {
      "image/png": "[encoded data removed]",
      "text/plain": [
       "<Figure size 1000x600 with 6 Axes>"
      ]
     },
     "metadata": {},
     "output_type": "display_data"
    }
   ],
   "source": [
    "cat_cols = ['inventory_status', 'fulfillment_type', 'pay_later', 'root_category', 'has_video']\n",
    "fig, axes = plt.subplots(figsize=(10, 6), nrows=2, ncols=3)\n",
    "\n",
    "for col, ax in zip(cat_cols, axes.ravel()):\n",
    "    sns.countplot(data=concat_df, x=col, ax=ax)\n",
    "    for container in ax.containers:\n",
    "        ax.bar_label(container)\n",
    "    ax.set_xticklabels(ax.get_xticklabels(), rotation=15)\n",
    "\n",
    "plt.tight_layout()"
   ]
  },
  {
   "attachments": {},
   "cell_type": "markdown",
   "metadata": {},
   "source": [
    "- 'inventory_status': there is only 1 value 'available' -> we can drop this column\n",
    "- 'fulfillment_type': dropship is the dominant fulfillment type in these category. Dropship means the sellers send products to TIKI then TIKI takes care of delivery. TIKI_delivery means the sellers give products priorly to TIKI warehouse (consignment selling) then TIKI takes care of all afterward delivery. seller_delivery means the sellers send goods directly to customers themselves. Cross_border means selling overseas\n",
    "- 'Pay_later': It is surpring that low-price, common products like shoes having pay_later policy available. I think that this is an 'add-on service' only and it does not have any usability here as a role of customers.\n",
    "- 'Root-category': Women's shoes have more products listed on TIKI in comparison with men's. ALso, sub-categories inside womens'shoes are also more than men's footwears.\n",
    "- 'has_video': This feature indicates whether or not the sellers have short_clips on product's postings"
   ]
  },
  {
   "attachments": {},
   "cell_type": "markdown",
   "metadata": {},
   "source": [
    "# COMPARISON BETWEEN TWO ROOT CATEGORY"
   ]
  },
  {
   "cell_type": "code",
   "execution_count": 449,
   "metadata": {},
   "outputs": [],
   "source": [
    "# distribution cua price vs list price\n",
    "# concat_df['discount_rate'] = concat"
   ]
  },
  {
   "cell_type": "code",
   "execution_count": 450,
   "metadata": {},
   "outputs": [
    {
     "data": {
      "text/html": [
       "<div>\n",
       "<style scoped>\n",
       "    .dataframe tbody tr th:only-of-type {\n",
       "        vertical-align: middle;\n",
       "    }\n",
       "\n",
       "    .dataframe tbody tr th {\n",
       "        vertical-align: top;\n",
       "    }\n",
       "\n",
       "    .dataframe thead th {\n",
       "        text-align: right;\n",
       "    }\n",
       "</style>\n",
       "<table border=\"1\" class=\"dataframe\">\n",
       "  <thead>\n",
       "    <tr style=\"text-align: right;\">\n",
       "      <th></th>\n",
       "      <th>id</th>\n",
       "      <th>sku</th>\n",
       "      <th>name</th>\n",
       "      <th>discription</th>\n",
       "      <th>list_price</th>\n",
       "      <th>price</th>\n",
       "      <th>alltime_quantity_sold</th>\n",
       "      <th>inventory_status</th>\n",
       "      <th>fulfillment_type</th>\n",
       "      <th>brand</th>\n",
       "      <th>category_id</th>\n",
       "      <th>category</th>\n",
       "      <th>review_count</th>\n",
       "      <th>rating_average</th>\n",
       "      <th>favourite_count</th>\n",
       "      <th>ASA_cashback</th>\n",
       "      <th>pay_later</th>\n",
       "      <th>current_seller</th>\n",
       "      <th>date_created</th>\n",
       "      <th>video_url</th>\n",
       "      <th>category_name</th>\n",
       "      <th>root_category</th>\n",
       "      <th>last_update</th>\n",
       "      <th>has_video</th>\n",
       "      <th>ASA_cashback_transformed</th>\n",
       "      <th>discount_rate</th>\n",
       "      <th>name_normal</th>\n",
       "      <th>discription_normal</th>\n",
       "    </tr>\n",
       "  </thead>\n",
       "  <tbody>\n",
       "    <tr>\n",
       "      <th>33159</th>\n",
       "      <td>217506126</td>\n",
       "      <td>4719484526604</td>\n",
       "      <td>Giày nữ búp bê TiTi ĐÔ da bò thật cao cấp GBBN...</td>\n",
       "      <td>Giày nữ búp bê TiTi ĐÔ da bò thật cao cấp GBBN...</td>\n",
       "      <td>393000</td>\n",
       "      <td>268000</td>\n",
       "      <td>0</td>\n",
       "      <td>available</td>\n",
       "      <td>dropship</td>\n",
       "      <td>OEM</td>\n",
       "      <td>49566</td>\n",
       "      <td>Giày búp bê mũi tròn</td>\n",
       "      <td>0</td>\n",
       "      <td>0.0</td>\n",
       "      <td>0</td>\n",
       "      <td>Thưởng 1,34 ASA (≈ 288đ)</td>\n",
       "      <td>True</td>\n",
       "      <td>Shoes TiTi Đô</td>\n",
       "      <td>106</td>\n",
       "      <td>NaN</td>\n",
       "      <td>WOMAN-giay-bup-be-mui-tron</td>\n",
       "      <td>giay-nu</td>\n",
       "      <td>2023-06-18 18:00:00</td>\n",
       "      <td>False</td>\n",
       "      <td>1.34</td>\n",
       "      <td>0.318066</td>\n",
       "      <td>giay nu bup be titi do da bo that cao cap gbbn...</td>\n",
       "      <td>giay nu bup be titi do da bo that cao cap gbbn...</td>\n",
       "    </tr>\n",
       "  </tbody>\n",
       "</table>\n",
       "</div>"
      ],
      "text/plain": [
       "              id            sku  \\\n",
       "33159  217506126  4719484526604   \n",
       "\n",
       "                                                    name  \\\n",
       "33159  Giày nữ búp bê TiTi ĐÔ da bò thật cao cấp GBBN...   \n",
       "\n",
       "                                             discription  list_price   price  \\\n",
       "33159  Giày nữ búp bê TiTi ĐÔ da bò thật cao cấp GBBN...      393000  268000   \n",
       "\n",
       "       alltime_quantity_sold inventory_status fulfillment_type brand  \\\n",
       "33159                      0        available         dropship   OEM   \n",
       "\n",
       "       category_id              category  review_count  rating_average  \\\n",
       "33159        49566  Giày búp bê mũi tròn             0             0.0   \n",
       "\n",
       "       favourite_count              ASA_cashback  pay_later current_seller  \\\n",
       "33159                0  Thưởng 1,34 ASA (≈ 288đ)       True  Shoes TiTi Đô   \n",
       "\n",
       "       date_created video_url               category_name root_category  \\\n",
       "33159           106       NaN  WOMAN-giay-bup-be-mui-tron       giay-nu   \n",
       "\n",
       "              last_update  has_video  ASA_cashback_transformed  discount_rate  \\\n",
       "33159 2023-06-18 18:00:00      False                      1.34       0.318066   \n",
       "\n",
       "                                             name_normal  \\\n",
       "33159  giay nu bup be titi do da bo that cao cap gbbn...   \n",
       "\n",
       "                                      discription_normal  \n",
       "33159  giay nu bup be titi do da bo that cao cap gbbn...  "
      ]
     },
     "execution_count": 450,
     "metadata": {},
     "output_type": "execute_result"
    }
   ],
   "source": [
    "concat_df.sample()"
   ]
  },
  {
   "cell_type": "code",
   "execution_count": 451,
   "metadata": {},
   "outputs": [
    {
     "data": {
      "image/png": "[encoded data removed]",
      "text/plain": [
       "<Figure size 1000x800 with 4 Axes>"
      ]
     },
     "metadata": {},
     "output_type": "display_data"
    }
   ],
   "source": [
    "cat_cols = ['inventory_status', 'fulfillment_type', 'pay_later', 'has_video']\n",
    "fig, axes = plt.subplots(figsize=(10, 8), nrows=2, ncols=2)\n",
    "\n",
    "for col, ax in zip(cat_cols, axes.ravel()):\n",
    "    sns.countplot(data=concat_df, x=col, ax=ax, hue='root_category')\n",
    "    for container in ax.containers:\n",
    "        ax.bar_label(container)\n",
    "    ax.set_xticklabels(ax.get_xticklabels(), rotation=15)\n",
    "\n",
    "plt.tight_layout()"
   ]
  },
  {
   "attachments": {},
   "cell_type": "markdown",
   "metadata": {},
   "source": [
    "We can see in the overview chart comparing men's and women' shoes that women's shoes dominates in most counting because the women's product id is much higher than men's id"
   ]
  },
  {
   "cell_type": "code",
   "execution_count": 452,
   "metadata": {},
   "outputs": [
    {
     "data": {
      "application/vnd.plotly.v1+json": {
       "config": {
        "plotlyServerURL": "https://plot.ly"
       },
       "data": [
        {
         "alignmentgroup": "True",
         "hovertemplate": "root_category=giay-nu<br>category_name=%{x}<br>list_price=%{y}<extra></extra>",
         "legendgroup": "giay-nu",
         "marker": {
          "color": "#636efa",
          "pattern": {
           "shape": ""
          }
         },
         "name": "giay-nu",
         "offsetgroup": "giay-nu",
         "orientation": "v",
         "showlegend": true,
         "textposition": "auto",
         "type": "bar",
         "x": [
          "WOMAN-giay-sandals-chien-binh",
          "WOMAN-giay-the-thao-co-cao",
          "WOMAN-giay-boots-nu",
          "WOMAN-giay-cao-got-suc",
          "WOMAN-giay-cao-got-quai-sau",
          "WOMAN-giay-luoi-nu",
          "WOMAN-giay-de-xuong-nu",
          "WOMAN-giay-bup-be-mui-tron",
          "WOMAN-giay-sandals-de-bang",
          "WOMAN-giay-bit-mui-quai-ngang",
          "WOMAN-giay-sandals-buoc-day",
          "WOMAN-giay-bup-be-mui-nhon",
          "WOMAN-giay-bup-be-mui-vuong",
          "WOMAN-dep-xo-ngon",
          "WOMAN-giay-cao-got-nhon",
          "WOMAN-giay-cao-got-ho-mui",
          "WOMAN-giay-the-thao-co-thap",
          "WOMAN-giay-sandals-xo-ngon",
          "WOMAN-dep-quai-ngang",
          "WOMAN-mieng-lot-giay",
          "WOMAN-phu-kien-cho-giay",
          "WOMAN-dep-di-trong-nha",
          "WOMAN-ve-sinh-giay"
         ],
         "xaxis": "x",
         "y": [
          1623381.9672131147,
          1207958.4688128773,
          762658.6592135698,
          631840.2790697674,
          576125.6578947369,
          495351.7498362803,
          467243.05451586656,
          460391.2532133676,
          438054.91949910554,
          428410.6328784925,
          409258.71875,
          389718.7131367292,
          388114.4155844156,
          341912.6360454943,
          325674.4073150457,
          293497.38369781314,
          267634.4,
          256314.72156862746,
          218421.0943339361,
          103381.01526104417,
          100173.6581782566,
          94202.21712062256,
          76406.22543352601
         ],
         "yaxis": "y"
        },
        {
         "alignmentgroup": "True",
         "hovertemplate": "root_category=giay-nam<br>category_name=%{x}<br>list_price=%{y}<extra></extra>",
         "legendgroup": "giay-nam",
         "marker": {
          "color": "#EF553B",
          "pattern": {
           "shape": ""
          }
         },
         "name": "giay-nam",
         "offsetgroup": "giay-nam",
         "orientation": "v",
         "showlegend": true,
         "textposition": "auto",
         "type": "bar",
         "x": [
          "MAN-giay-the-thao-nam-co-cao",
          "MAN-giay-luoi-nhua-nam",
          "MAN-giay-tay-nam-co-day",
          "MAN-giay-boots-nam",
          "MAN-giay-luoi-vai-nam",
          "MAN-dep-nam-xo-ngon",
          "MAN-giay-sandals-nam-quai-ngang",
          "MAN-giay-luoi-da-nam",
          "MAN-giay-tay-nam-khong-day",
          "MAN-giay-the-thao-nam-co-thap",
          "MAN-giay-sandals-nam-quai-cheo",
          "MAN-dep-nam-quai-ngang",
          "MAN-phu-kien-cho-giay-nam",
          "MAN-mieng-lot-giay-nam",
          "MAN-dep-nam-di-trong-nha",
          "MAN-ve-sinh-giay"
         ],
         "xaxis": "x",
         "y": [
          1278748.3260115606,
          1021932.48,
          1014287.3379174853,
          901240.5537190082,
          441445.32134292566,
          393026.95740223466,
          386039.763650546,
          313254.2405691595,
          311497.4395857307,
          294658.84930950444,
          201691.63679245283,
          188472.14076246336,
          180192.85379568886,
          180020.32295719846,
          129260.91489361702,
          103881.96467391304
         ],
         "yaxis": "y"
        }
       ],
       "layout": {
        "barmode": "relative",
        "legend": {
         "title": {
          "text": "root_category"
         },
         "tracegroupgap": 0
        },
        "margin": {
         "t": 60
        },
        "template": {
         "data": {
          "bar": [
           {
            "error_x": {
             "color": "#2a3f5f"
            },
            "error_y": {
             "color": "#2a3f5f"
            },
            "marker": {
             "line": {
              "color": "#E5ECF6",
              "width": 0.5
             },
             "pattern": {
              "fillmode": "overlay",
              "size": 10,
              "solidity": 0.2
             }
            },
            "type": "bar"
           }
          ],
          "barpolar": [
           {
            "marker": {
             "line": {
              "color": "#E5ECF6",
              "width": 0.5
             },
             "pattern": {
              "fillmode": "overlay",
              "size": 10,
              "solidity": 0.2
             }
            },
            "type": "barpolar"
           }
          ],
          "carpet": [
           {
            "aaxis": {
             "endlinecolor": "#2a3f5f",
             "gridcolor": "white",
             "linecolor": "white",
             "minorgridcolor": "white",
             "startlinecolor": "#2a3f5f"
            },
            "baxis": {
             "endlinecolor": "#2a3f5f",
             "gridcolor": "white",
             "linecolor": "white",
             "minorgridcolor": "white",
             "startlinecolor": "#2a3f5f"
            },
            "type": "carpet"
           }
          ],
          "choropleth": [
           {
            "colorbar": {
             "outlinewidth": 0,
             "ticks": ""
            },
            "type": "choropleth"
           }
          ],
          "contour": [
           {
            "colorbar": {
             "outlinewidth": 0,
             "ticks": ""
            },
            "colorscale": [
             [
              0,
              "#0d0887"
             ],
             [
              0.1111111111111111,
              "#46039f"
             ],
             [
              0.2222222222222222,
              "#7201a8"
             ],
             [
              0.3333333333333333,
              "#9c179e"
             ],
             [
              0.4444444444444444,
              "#bd3786"
             ],
             [
              0.5555555555555556,
              "#d8576b"
             ],
             [
              0.6666666666666666,
              "#ed7953"
             ],
             [
              0.7777777777777778,
              "#fb9f3a"
             ],
             [
              0.8888888888888888,
              "#fdca26"
             ],
             [
              1,
              "#f0f921"
             ]
            ],
            "type": "contour"
           }
          ],
          "contourcarpet": [
           {
            "colorbar": {
             "outlinewidth": 0,
             "ticks": ""
            },
            "type": "contourcarpet"
           }
          ],
          "heatmap": [
           {
            "colorbar": {
             "outlinewidth": 0,
             "ticks": ""
            },
            "colorscale": [
             [
              0,
              "#0d0887"
             ],
             [
              0.1111111111111111,
              "#46039f"
             ],
             [
              0.2222222222222222,
              "#7201a8"
             ],
             [
              0.3333333333333333,
              "#9c179e"
             ],
             [
              0.4444444444444444,
              "#bd3786"
             ],
             [
              0.5555555555555556,
              "#d8576b"
             ],
             [
              0.6666666666666666,
              "#ed7953"
             ],
             [
              0.7777777777777778,
              "#fb9f3a"
             ],
             [
              0.8888888888888888,
              "#fdca26"
             ],
             [
              1,
              "#f0f921"
             ]
            ],
            "type": "heatmap"
           }
          ],
          "heatmapgl": [
           {
            "colorbar": {
             "outlinewidth": 0,
             "ticks": ""
            },
            "colorscale": [
             [
              0,
              "#0d0887"
             ],
             [
              0.1111111111111111,
              "#46039f"
             ],
             [
              0.2222222222222222,
              "#7201a8"
             ],
             [
              0.3333333333333333,
              "#9c179e"
             ],
             [
              0.4444444444444444,
              "#bd3786"
             ],
             [
              0.5555555555555556,
              "#d8576b"
             ],
             [
              0.6666666666666666,
              "#ed7953"
             ],
             [
              0.7777777777777778,
              "#fb9f3a"
             ],
             [
              0.8888888888888888,
              "#fdca26"
             ],
             [
              1,
              "#f0f921"
             ]
            ],
            "type": "heatmapgl"
           }
          ],
          "histogram": [
           {
            "marker": {
             "pattern": {
              "fillmode": "overlay",
              "size": 10,
              "solidity": 0.2
             }
            },
            "type": "histogram"
           }
          ],
          "histogram2d": [
           {
            "colorbar": {
             "outlinewidth": 0,
             "ticks": ""
            },
            "colorscale": [
             [
              0,
              "#0d0887"
             ],
             [
              0.1111111111111111,
              "#46039f"
             ],
             [
              0.2222222222222222,
              "#7201a8"
             ],
             [
              0.3333333333333333,
              "#9c179e"
             ],
             [
              0.4444444444444444,
              "#bd3786"
             ],
             [
              0.5555555555555556,
              "#d8576b"
             ],
             [
              0.6666666666666666,
              "#ed7953"
             ],
             [
              0.7777777777777778,
              "#fb9f3a"
             ],
             [
              0.8888888888888888,
              "#fdca26"
             ],
             [
              1,
              "#f0f921"
             ]
            ],
            "type": "histogram2d"
           }
          ],
          "histogram2dcontour": [
           {
            "colorbar": {
             "outlinewidth": 0,
             "ticks": ""
            },
            "colorscale": [
             [
              0,
              "#0d0887"
             ],
             [
              0.1111111111111111,
              "#46039f"
             ],
             [
              0.2222222222222222,
              "#7201a8"
             ],
             [
              0.3333333333333333,
              "#9c179e"
             ],
             [
              0.4444444444444444,
              "#bd3786"
             ],
             [
              0.5555555555555556,
              "#d8576b"
             ],
             [
              0.6666666666666666,
              "#ed7953"
             ],
             [
              0.7777777777777778,
              "#fb9f3a"
             ],
             [
              0.8888888888888888,
              "#fdca26"
             ],
             [
              1,
              "#f0f921"
             ]
            ],
            "type": "histogram2dcontour"
           }
          ],
          "mesh3d": [
           {
            "colorbar": {
             "outlinewidth": 0,
             "ticks": ""
            },
            "type": "mesh3d"
           }
          ],
          "parcoords": [
           {
            "line": {
             "colorbar": {
              "outlinewidth": 0,
              "ticks": ""
             }
            },
            "type": "parcoords"
           }
          ],
          "pie": [
           {
            "automargin": true,
            "type": "pie"
           }
          ],
          "scatter": [
           {
            "fillpattern": {
             "fillmode": "overlay",
             "size": 10,
             "solidity": 0.2
            },
            "type": "scatter"
           }
          ],
          "scatter3d": [
           {
            "line": {
             "colorbar": {
              "outlinewidth": 0,
              "ticks": ""
             }
            },
            "marker": {
             "colorbar": {
              "outlinewidth": 0,
              "ticks": ""
             }
            },
            "type": "scatter3d"
           }
          ],
          "scattercarpet": [
           {
            "marker": {
             "colorbar": {
              "outlinewidth": 0,
              "ticks": ""
             }
            },
            "type": "scattercarpet"
           }
          ],
          "scattergeo": [
           {
            "marker": {
             "colorbar": {
              "outlinewidth": 0,
              "ticks": ""
             }
            },
            "type": "scattergeo"
           }
          ],
          "scattergl": [
           {
            "marker": {
             "colorbar": {
              "outlinewidth": 0,
              "ticks": ""
             }
            },
            "type": "scattergl"
           }
          ],
          "scattermapbox": [
           {
            "marker": {
             "colorbar": {
              "outlinewidth": 0,
              "ticks": ""
             }
            },
            "type": "scattermapbox"
           }
          ],
          "scatterpolar": [
           {
            "marker": {
             "colorbar": {
              "outlinewidth": 0,
              "ticks": ""
             }
            },
            "type": "scatterpolar"
           }
          ],
          "scatterpolargl": [
           {
            "marker": {
             "colorbar": {
              "outlinewidth": 0,
              "ticks": ""
             }
            },
            "type": "scatterpolargl"
           }
          ],
          "scatterternary": [
           {
            "marker": {
             "colorbar": {
              "outlinewidth": 0,
              "ticks": ""
             }
            },
            "type": "scatterternary"
           }
          ],
          "surface": [
           {
            "colorbar": {
             "outlinewidth": 0,
             "ticks": ""
            },
            "colorscale": [
             [
              0,
              "#0d0887"
             ],
             [
              0.1111111111111111,
              "#46039f"
             ],
             [
              0.2222222222222222,
              "#7201a8"
             ],
             [
              0.3333333333333333,
              "#9c179e"
             ],
             [
              0.4444444444444444,
              "#bd3786"
             ],
             [
              0.5555555555555556,
              "#d8576b"
             ],
             [
              0.6666666666666666,
              "#ed7953"
             ],
             [
              0.7777777777777778,
              "#fb9f3a"
             ],
             [
              0.8888888888888888,
              "#fdca26"
             ],
             [
              1,
              "#f0f921"
             ]
            ],
            "type": "surface"
           }
          ],
          "table": [
           {
            "cells": {
             "fill": {
              "color": "#EBF0F8"
             },
             "line": {
              "color": "white"
             }
            },
            "header": {
             "fill": {
              "color": "#C8D4E3"
             },
             "line": {
              "color": "white"
             }
            },
            "type": "table"
           }
          ]
         },
         "layout": {
          "annotationdefaults": {
           "arrowcolor": "#2a3f5f",
           "arrowhead": 0,
           "arrowwidth": 1
          },
          "autotypenumbers": "strict",
          "coloraxis": {
           "colorbar": {
            "outlinewidth": 0,
            "ticks": ""
           }
          },
          "colorscale": {
           "diverging": [
            [
             0,
             "#8e0152"
            ],
            [
             0.1,
             "#c51b7d"
            ],
            [
             0.2,
             "#de77ae"
            ],
            [
             0.3,
             "#f1b6da"
            ],
            [
             0.4,
             "#fde0ef"
            ],
            [
             0.5,
             "#f7f7f7"
            ],
            [
             0.6,
             "#e6f5d0"
            ],
            [
             0.7,
             "#b8e186"
            ],
            [
             0.8,
             "#7fbc41"
            ],
            [
             0.9,
             "#4d9221"
            ],
            [
             1,
             "#276419"
            ]
           ],
           "sequential": [
            [
             0,
             "#0d0887"
            ],
            [
             0.1111111111111111,
             "#46039f"
            ],
            [
             0.2222222222222222,
             "#7201a8"
            ],
            [
             0.3333333333333333,
             "#9c179e"
            ],
            [
             0.4444444444444444,
             "#bd3786"
            ],
            [
             0.5555555555555556,
             "#d8576b"
            ],
            [
             0.6666666666666666,
             "#ed7953"
            ],
            [
             0.7777777777777778,
             "#fb9f3a"
            ],
            [
             0.8888888888888888,
             "#fdca26"
            ],
            [
             1,
             "#f0f921"
            ]
           ],
           "sequentialminus": [
            [
             0,
             "#0d0887"
            ],
            [
             0.1111111111111111,
             "#46039f"
            ],
            [
             0.2222222222222222,
             "#7201a8"
            ],
            [
             0.3333333333333333,
             "#9c179e"
            ],
            [
             0.4444444444444444,
             "#bd3786"
            ],
            [
             0.5555555555555556,
             "#d8576b"
            ],
            [
             0.6666666666666666,
             "#ed7953"
            ],
            [
             0.7777777777777778,
             "#fb9f3a"
            ],
            [
             0.8888888888888888,
             "#fdca26"
            ],
            [
             1,
             "#f0f921"
            ]
           ]
          },
          "colorway": [
           "#636efa",
           "#EF553B",
           "#00cc96",
           "#ab63fa",
           "#FFA15A",
           "#19d3f3",
           "#FF6692",
           "#B6E880",
           "#FF97FF",
           "#FECB52"
          ],
          "font": {
           "color": "#2a3f5f"
          },
          "geo": {
           "bgcolor": "white",
           "lakecolor": "white",
           "landcolor": "#E5ECF6",
           "showlakes": true,
           "showland": true,
           "subunitcolor": "white"
          },
          "hoverlabel": {
           "align": "left"
          },
          "hovermode": "closest",
          "mapbox": {
           "style": "light"
          },
          "paper_bgcolor": "white",
          "plot_bgcolor": "#E5ECF6",
          "polar": {
           "angularaxis": {
            "gridcolor": "white",
            "linecolor": "white",
            "ticks": ""
           },
           "bgcolor": "#E5ECF6",
           "radialaxis": {
            "gridcolor": "white",
            "linecolor": "white",
            "ticks": ""
           }
          },
          "scene": {
           "xaxis": {
            "backgroundcolor": "#E5ECF6",
            "gridcolor": "white",
            "gridwidth": 2,
            "linecolor": "white",
            "showbackground": true,
            "ticks": "",
            "zerolinecolor": "white"
           },
           "yaxis": {
            "backgroundcolor": "#E5ECF6",
            "gridcolor": "white",
            "gridwidth": 2,
            "linecolor": "white",
            "showbackground": true,
            "ticks": "",
            "zerolinecolor": "white"
           },
           "zaxis": {
            "backgroundcolor": "#E5ECF6",
            "gridcolor": "white",
            "gridwidth": 2,
            "linecolor": "white",
            "showbackground": true,
            "ticks": "",
            "zerolinecolor": "white"
           }
          },
          "shapedefaults": {
           "line": {
            "color": "#2a3f5f"
           }
          },
          "ternary": {
           "aaxis": {
            "gridcolor": "white",
            "linecolor": "white",
            "ticks": ""
           },
           "baxis": {
            "gridcolor": "white",
            "linecolor": "white",
            "ticks": ""
           },
           "bgcolor": "#E5ECF6",
           "caxis": {
            "gridcolor": "white",
            "linecolor": "white",
            "ticks": ""
           }
          },
          "title": {
           "x": 0.05
          },
          "xaxis": {
           "automargin": true,
           "gridcolor": "white",
           "linecolor": "white",
           "ticks": "",
           "title": {
            "standoff": 15
           },
           "zerolinecolor": "white",
           "zerolinewidth": 2
          },
          "yaxis": {
           "automargin": true,
           "gridcolor": "white",
           "linecolor": "white",
           "ticks": "",
           "title": {
            "standoff": 15
           },
           "zerolinecolor": "white",
           "zerolinewidth": 2
          }
         }
        },
        "title": {
         "text": "Average Price of Each Category"
        },
        "xaxis": {
         "anchor": "y",
         "domain": [
          0,
          1
         ],
         "title": {
          "text": "category_name"
         }
        },
        "yaxis": {
         "anchor": "x",
         "domain": [
          0,
          1
         ],
         "title": {
          "text": "list_price"
         }
        }
       }
      }
     },
     "metadata": {},
     "output_type": "display_data"
    }
   ],
   "source": [
    "avg_price_df = concat_df.groupby(['category_name', 'root_category'])['list_price'].mean().reset_index()\n",
    "avg_price_df = avg_price_df.sort_values(by='list_price',ascending=False)\n",
    "\n",
    "fig = px.bar(avg_price_df, x='category_name', y='list_price', color='root_category')\n",
    "fig.update_layout(title='Average Price of Each Category')\n",
    "fig.show()"
   ]
  },
  {
   "attachments": {},
   "cell_type": "markdown",
   "metadata": {},
   "source": [
    "By comparing 2 category on PRICE, we can see:\n",
    "- product of price > 1 are sandals, sport sneakers, men's western shoes (giay tay), men's plastic boots (CROCS shoes)\n",
    "- MID PRICE RANGE 200k - 500k: other shoes\n",
    "- PRICE <200k: shoes'accesories, men's slippers"
   ]
  },
  {
   "cell_type": "code",
   "execution_count": 453,
   "metadata": {},
   "outputs": [
    {
     "data": {
      "application/vnd.plotly.v1+json": {
       "config": {
        "plotlyServerURL": "https://plot.ly"
       },
       "data": [
        {
         "alignmentgroup": "True",
         "hovertemplate": "root_category=giay-nu<br>category_name=%{x}<br>alltime_quantity_sold=%{y}<extra></extra>",
         "legendgroup": "giay-nu",
         "marker": {
          "color": "#636efa",
          "pattern": {
           "shape": ""
          }
         },
         "name": "giay-nu",
         "offsetgroup": "giay-nu",
         "orientation": "v",
         "showlegend": true,
         "textposition": "auto",
         "type": "bar",
         "x": [
          "WOMAN-mieng-lot-giay",
          "WOMAN-dep-di-trong-nha",
          "WOMAN-dep-quai-ngang",
          "WOMAN-giay-the-thao-co-thap",
          "WOMAN-giay-bup-be-mui-tron",
          "WOMAN-giay-luoi-nu",
          "WOMAN-phu-kien-cho-giay",
          "WOMAN-ve-sinh-giay",
          "WOMAN-giay-sandals-de-bang",
          "WOMAN-giay-cao-got-ho-mui",
          "WOMAN-giay-boots-nu",
          "WOMAN-dep-xo-ngon",
          "WOMAN-giay-de-xuong-nu",
          "WOMAN-giay-bit-mui-quai-ngang",
          "WOMAN-giay-cao-got-nhon",
          "WOMAN-giay-bup-be-mui-nhon",
          "WOMAN-giay-the-thao-co-cao",
          "WOMAN-giay-cao-got-suc",
          "WOMAN-giay-sandals-xo-ngon",
          "WOMAN-giay-cao-got-quai-sau",
          "WOMAN-giay-bup-be-mui-vuong",
          "WOMAN-giay-sandals-buoc-day",
          "WOMAN-giay-sandals-chien-binh"
         ],
         "xaxis": "x",
         "y": [
          38382,
          24264,
          22351,
          19765,
          14226,
          7890,
          7003,
          6061,
          5843,
          5199,
          4403,
          4175,
          3886,
          3167,
          2261,
          997,
          767,
          638,
          584,
          395,
          35,
          29,
          7
         ],
         "yaxis": "y"
        },
        {
         "alignmentgroup": "True",
         "hovertemplate": "root_category=giay-nam<br>category_name=%{x}<br>alltime_quantity_sold=%{y}<extra></extra>",
         "legendgroup": "giay-nam",
         "marker": {
          "color": "#EF553B",
          "pattern": {
           "shape": ""
          }
         },
         "name": "giay-nam",
         "offsetgroup": "giay-nam",
         "orientation": "v",
         "showlegend": true,
         "textposition": "auto",
         "type": "bar",
         "x": [
          "MAN-giay-the-thao-nam-co-thap",
          "MAN-dep-nam-quai-ngang",
          "MAN-phu-kien-cho-giay-nam",
          "MAN-mieng-lot-giay-nam",
          "MAN-ve-sinh-giay",
          "MAN-giay-luoi-da-nam",
          "MAN-dep-nam-xo-ngon",
          "MAN-giay-sandals-nam-quai-ngang",
          "MAN-giay-boots-nam",
          "MAN-giay-tay-nam-khong-day",
          "MAN-giay-tay-nam-co-day",
          "MAN-giay-the-thao-nam-co-cao",
          "MAN-giay-luoi-nhua-nam",
          "MAN-giay-luoi-vai-nam",
          "MAN-giay-sandals-nam-quai-cheo",
          "MAN-dep-nam-di-trong-nha"
         ],
         "xaxis": "x",
         "y": [
          32476,
          24740,
          19163,
          12455,
          11770,
          6406,
          5602,
          5160,
          4148,
          4102,
          3215,
          3109,
          1816,
          1812,
          1251,
          958
         ],
         "yaxis": "y"
        }
       ],
       "layout": {
        "barmode": "relative",
        "legend": {
         "title": {
          "text": "root_category"
         },
         "tracegroupgap": 0
        },
        "margin": {
         "t": 60
        },
        "template": {
         "data": {
          "bar": [
           {
            "error_x": {
             "color": "#2a3f5f"
            },
            "error_y": {
             "color": "#2a3f5f"
            },
            "marker": {
             "line": {
              "color": "#E5ECF6",
              "width": 0.5
             },
             "pattern": {
              "fillmode": "overlay",
              "size": 10,
              "solidity": 0.2
             }
            },
            "type": "bar"
           }
          ],
          "barpolar": [
           {
            "marker": {
             "line": {
              "color": "#E5ECF6",
              "width": 0.5
             },
             "pattern": {
              "fillmode": "overlay",
              "size": 10,
              "solidity": 0.2
             }
            },
            "type": "barpolar"
           }
          ],
          "carpet": [
           {
            "aaxis": {
             "endlinecolor": "#2a3f5f",
             "gridcolor": "white",
             "linecolor": "white",
             "minorgridcolor": "white",
             "startlinecolor": "#2a3f5f"
            },
            "baxis": {
             "endlinecolor": "#2a3f5f",
             "gridcolor": "white",
             "linecolor": "white",
             "minorgridcolor": "white",
             "startlinecolor": "#2a3f5f"
            },
            "type": "carpet"
           }
          ],
          "choropleth": [
           {
            "colorbar": {
             "outlinewidth": 0,
             "ticks": ""
            },
            "type": "choropleth"
           }
          ],
          "contour": [
           {
            "colorbar": {
             "outlinewidth": 0,
             "ticks": ""
            },
            "colorscale": [
             [
              0,
              "#0d0887"
             ],
             [
              0.1111111111111111,
              "#46039f"
             ],
             [
              0.2222222222222222,
              "#7201a8"
             ],
             [
              0.3333333333333333,
              "#9c179e"
             ],
             [
              0.4444444444444444,
              "#bd3786"
             ],
             [
              0.5555555555555556,
              "#d8576b"
             ],
             [
              0.6666666666666666,
              "#ed7953"
             ],
             [
              0.7777777777777778,
              "#fb9f3a"
             ],
             [
              0.8888888888888888,
              "#fdca26"
             ],
             [
              1,
              "#f0f921"
             ]
            ],
            "type": "contour"
           }
          ],
          "contourcarpet": [
           {
            "colorbar": {
             "outlinewidth": 0,
             "ticks": ""
            },
            "type": "contourcarpet"
           }
          ],
          "heatmap": [
           {
            "colorbar": {
             "outlinewidth": 0,
             "ticks": ""
            },
            "colorscale": [
             [
              0,
              "#0d0887"
             ],
             [
              0.1111111111111111,
              "#46039f"
             ],
             [
              0.2222222222222222,
              "#7201a8"
             ],
             [
              0.3333333333333333,
              "#9c179e"
             ],
             [
              0.4444444444444444,
              "#bd3786"
             ],
             [
              0.5555555555555556,
              "#d8576b"
             ],
             [
              0.6666666666666666,
              "#ed7953"
             ],
             [
              0.7777777777777778,
              "#fb9f3a"
             ],
             [
              0.8888888888888888,
              "#fdca26"
             ],
             [
              1,
              "#f0f921"
             ]
            ],
            "type": "heatmap"
           }
          ],
          "heatmapgl": [
           {
            "colorbar": {
             "outlinewidth": 0,
             "ticks": ""
            },
            "colorscale": [
             [
              0,
              "#0d0887"
             ],
             [
              0.1111111111111111,
              "#46039f"
             ],
             [
              0.2222222222222222,
              "#7201a8"
             ],
             [
              0.3333333333333333,
              "#9c179e"
             ],
             [
              0.4444444444444444,
              "#bd3786"
             ],
             [
              0.5555555555555556,
              "#d8576b"
             ],
             [
              0.6666666666666666,
              "#ed7953"
             ],
             [
              0.7777777777777778,
              "#fb9f3a"
             ],
             [
              0.8888888888888888,
              "#fdca26"
             ],
             [
              1,
              "#f0f921"
             ]
            ],
            "type": "heatmapgl"
           }
          ],
          "histogram": [
           {
            "marker": {
             "pattern": {
              "fillmode": "overlay",
              "size": 10,
              "solidity": 0.2
             }
            },
            "type": "histogram"
           }
          ],
          "histogram2d": [
           {
            "colorbar": {
             "outlinewidth": 0,
             "ticks": ""
            },
            "colorscale": [
             [
              0,
              "#0d0887"
             ],
             [
              0.1111111111111111,
              "#46039f"
             ],
             [
              0.2222222222222222,
              "#7201a8"
             ],
             [
              0.3333333333333333,
              "#9c179e"
             ],
             [
              0.4444444444444444,
              "#bd3786"
             ],
             [
              0.5555555555555556,
              "#d8576b"
             ],
             [
              0.6666666666666666,
              "#ed7953"
             ],
             [
              0.7777777777777778,
              "#fb9f3a"
             ],
             [
              0.8888888888888888,
              "#fdca26"
             ],
             [
              1,
              "#f0f921"
             ]
            ],
            "type": "histogram2d"
           }
          ],
          "histogram2dcontour": [
           {
            "colorbar": {
             "outlinewidth": 0,
             "ticks": ""
            },
            "colorscale": [
             [
              0,
              "#0d0887"
             ],
             [
              0.1111111111111111,
              "#46039f"
             ],
             [
              0.2222222222222222,
              "#7201a8"
             ],
             [
              0.3333333333333333,
              "#9c179e"
             ],
             [
              0.4444444444444444,
              "#bd3786"
             ],
             [
              0.5555555555555556,
              "#d8576b"
             ],
             [
              0.6666666666666666,
              "#ed7953"
             ],
             [
              0.7777777777777778,
              "#fb9f3a"
             ],
             [
              0.8888888888888888,
              "#fdca26"
             ],
             [
              1,
              "#f0f921"
             ]
            ],
            "type": "histogram2dcontour"
           }
          ],
          "mesh3d": [
           {
            "colorbar": {
             "outlinewidth": 0,
             "ticks": ""
            },
            "type": "mesh3d"
           }
          ],
          "parcoords": [
           {
            "line": {
             "colorbar": {
              "outlinewidth": 0,
              "ticks": ""
             }
            },
            "type": "parcoords"
           }
          ],
          "pie": [
           {
            "automargin": true,
            "type": "pie"
           }
          ],
          "scatter": [
           {
            "fillpattern": {
             "fillmode": "overlay",
             "size": 10,
             "solidity": 0.2
            },
            "type": "scatter"
           }
          ],
          "scatter3d": [
           {
            "line": {
             "colorbar": {
              "outlinewidth": 0,
              "ticks": ""
             }
            },
            "marker": {
             "colorbar": {
              "outlinewidth": 0,
              "ticks": ""
             }
            },
            "type": "scatter3d"
           }
          ],
          "scattercarpet": [
           {
            "marker": {
             "colorbar": {
              "outlinewidth": 0,
              "ticks": ""
             }
            },
            "type": "scattercarpet"
           }
          ],
          "scattergeo": [
           {
            "marker": {
             "colorbar": {
              "outlinewidth": 0,
              "ticks": ""
             }
            },
            "type": "scattergeo"
           }
          ],
          "scattergl": [
           {
            "marker": {
             "colorbar": {
              "outlinewidth": 0,
              "ticks": ""
             }
            },
            "type": "scattergl"
           }
          ],
          "scattermapbox": [
           {
            "marker": {
             "colorbar": {
              "outlinewidth": 0,
              "ticks": ""
             }
            },
            "type": "scattermapbox"
           }
          ],
          "scatterpolar": [
           {
            "marker": {
             "colorbar": {
              "outlinewidth": 0,
              "ticks": ""
             }
            },
            "type": "scatterpolar"
           }
          ],
          "scatterpolargl": [
           {
            "marker": {
             "colorbar": {
              "outlinewidth": 0,
              "ticks": ""
             }
            },
            "type": "scatterpolargl"
           }
          ],
          "scatterternary": [
           {
            "marker": {
             "colorbar": {
              "outlinewidth": 0,
              "ticks": ""
             }
            },
            "type": "scatterternary"
           }
          ],
          "surface": [
           {
            "colorbar": {
             "outlinewidth": 0,
             "ticks": ""
            },
            "colorscale": [
             [
              0,
              "#0d0887"
             ],
             [
              0.1111111111111111,
              "#46039f"
             ],
             [
              0.2222222222222222,
              "#7201a8"
             ],
             [
              0.3333333333333333,
              "#9c179e"
             ],
             [
              0.4444444444444444,
              "#bd3786"
             ],
             [
              0.5555555555555556,
              "#d8576b"
             ],
             [
              0.6666666666666666,
              "#ed7953"
             ],
             [
              0.7777777777777778,
              "#fb9f3a"
             ],
             [
              0.8888888888888888,
              "#fdca26"
             ],
             [
              1,
              "#f0f921"
             ]
            ],
            "type": "surface"
           }
          ],
          "table": [
           {
            "cells": {
             "fill": {
              "color": "#EBF0F8"
             },
             "line": {
              "color": "white"
             }
            },
            "header": {
             "fill": {
              "color": "#C8D4E3"
             },
             "line": {
              "color": "white"
             }
            },
            "type": "table"
           }
          ]
         },
         "layout": {
          "annotationdefaults": {
           "arrowcolor": "#2a3f5f",
           "arrowhead": 0,
           "arrowwidth": 1
          },
          "autotypenumbers": "strict",
          "coloraxis": {
           "colorbar": {
            "outlinewidth": 0,
            "ticks": ""
           }
          },
          "colorscale": {
           "diverging": [
            [
             0,
             "#8e0152"
            ],
            [
             0.1,
             "#c51b7d"
            ],
            [
             0.2,
             "#de77ae"
            ],
            [
             0.3,
             "#f1b6da"
            ],
            [
             0.4,
             "#fde0ef"
            ],
            [
             0.5,
             "#f7f7f7"
            ],
            [
             0.6,
             "#e6f5d0"
            ],
            [
             0.7,
             "#b8e186"
            ],
            [
             0.8,
             "#7fbc41"
            ],
            [
             0.9,
             "#4d9221"
            ],
            [
             1,
             "#276419"
            ]
           ],
           "sequential": [
            [
             0,
             "#0d0887"
            ],
            [
             0.1111111111111111,
             "#46039f"
            ],
            [
             0.2222222222222222,
             "#7201a8"
            ],
            [
             0.3333333333333333,
             "#9c179e"
            ],
            [
             0.4444444444444444,
             "#bd3786"
            ],
            [
             0.5555555555555556,
             "#d8576b"
            ],
            [
             0.6666666666666666,
             "#ed7953"
            ],
            [
             0.7777777777777778,
             "#fb9f3a"
            ],
            [
             0.8888888888888888,
             "#fdca26"
            ],
            [
             1,
             "#f0f921"
            ]
           ],
           "sequentialminus": [
            [
             0,
             "#0d0887"
            ],
            [
             0.1111111111111111,
             "#46039f"
            ],
            [
             0.2222222222222222,
             "#7201a8"
            ],
            [
             0.3333333333333333,
             "#9c179e"
            ],
            [
             0.4444444444444444,
             "#bd3786"
            ],
            [
             0.5555555555555556,
             "#d8576b"
            ],
            [
             0.6666666666666666,
             "#ed7953"
            ],
            [
             0.7777777777777778,
             "#fb9f3a"
            ],
            [
             0.8888888888888888,
             "#fdca26"
            ],
            [
             1,
             "#f0f921"
            ]
           ]
          },
          "colorway": [
           "#636efa",
           "#EF553B",
           "#00cc96",
           "#ab63fa",
           "#FFA15A",
           "#19d3f3",
           "#FF6692",
           "#B6E880",
           "#FF97FF",
           "#FECB52"
          ],
          "font": {
           "color": "#2a3f5f"
          },
          "geo": {
           "bgcolor": "white",
           "lakecolor": "white",
           "landcolor": "#E5ECF6",
           "showlakes": true,
           "showland": true,
           "subunitcolor": "white"
          },
          "hoverlabel": {
           "align": "left"
          },
          "hovermode": "closest",
          "mapbox": {
           "style": "light"
          },
          "paper_bgcolor": "white",
          "plot_bgcolor": "#E5ECF6",
          "polar": {
           "angularaxis": {
            "gridcolor": "white",
            "linecolor": "white",
            "ticks": ""
           },
           "bgcolor": "#E5ECF6",
           "radialaxis": {
            "gridcolor": "white",
            "linecolor": "white",
            "ticks": ""
           }
          },
          "scene": {
           "xaxis": {
            "backgroundcolor": "#E5ECF6",
            "gridcolor": "white",
            "gridwidth": 2,
            "linecolor": "white",
            "showbackground": true,
            "ticks": "",
            "zerolinecolor": "white"
           },
           "yaxis": {
            "backgroundcolor": "#E5ECF6",
            "gridcolor": "white",
            "gridwidth": 2,
            "linecolor": "white",
            "showbackground": true,
            "ticks": "",
            "zerolinecolor": "white"
           },
           "zaxis": {
            "backgroundcolor": "#E5ECF6",
            "gridcolor": "white",
            "gridwidth": 2,
            "linecolor": "white",
            "showbackground": true,
            "ticks": "",
            "zerolinecolor": "white"
           }
          },
          "shapedefaults": {
           "line": {
            "color": "#2a3f5f"
           }
          },
          "ternary": {
           "aaxis": {
            "gridcolor": "white",
            "linecolor": "white",
            "ticks": ""
           },
           "baxis": {
            "gridcolor": "white",
            "linecolor": "white",
            "ticks": ""
           },
           "bgcolor": "#E5ECF6",
           "caxis": {
            "gridcolor": "white",
            "linecolor": "white",
            "ticks": ""
           }
          },
          "title": {
           "x": 0.05
          },
          "xaxis": {
           "automargin": true,
           "gridcolor": "white",
           "linecolor": "white",
           "ticks": "",
           "title": {
            "standoff": 15
           },
           "zerolinecolor": "white",
           "zerolinewidth": 2
          },
          "yaxis": {
           "automargin": true,
           "gridcolor": "white",
           "linecolor": "white",
           "ticks": "",
           "title": {
            "standoff": 15
           },
           "zerolinecolor": "white",
           "zerolinewidth": 2
          }
         }
        },
        "title": {
         "text": "Products Sold of Each Category"
        },
        "xaxis": {
         "anchor": "y",
         "domain": [
          0,
          1
         ],
         "title": {
          "text": "category_name"
         }
        },
        "yaxis": {
         "anchor": "x",
         "domain": [
          0,
          1
         ],
         "title": {
          "text": "alltime_quantity_sold"
         }
        }
       }
      }
     },
     "metadata": {},
     "output_type": "display_data"
    }
   ],
   "source": [
    "avg_price_df = concat_df.groupby(['category_name', 'root_category'])['alltime_quantity_sold'].sum().reset_index()\n",
    "avg_price_df = avg_price_df.sort_values(by='alltime_quantity_sold',ascending=False)\n",
    "\n",
    "fig = px.bar(avg_price_df, x='category_name', y='alltime_quantity_sold', color='root_category')\n",
    "fig.update_layout(title='Products Sold of Each Category')\n",
    "fig.show()"
   ]
  },
  {
   "attachments": {},
   "cell_type": "markdown",
   "metadata": {},
   "source": [
    "IN WOMEN's products:\n",
    "- most bought items are: Miếng lót giày, slippers, dép quai ngang, sneakers, giày búp bê\n",
    "IN MEN's products:\n",
    "- most bought items are: sneakers, dép quai ngang, accesories, miếng lót giày, shoes'cleanings\n",
    "\n",
    "We can see that: miếng lót giày are heavily bought in both men's & women's categories and this item can be treated as unisex product.\n",
    "Moreover, 'dép quai ngang' are hot sales in both"
   ]
  },
  {
   "cell_type": "code",
   "execution_count": 454,
   "metadata": {},
   "outputs": [
    {
     "data": {
      "application/vnd.plotly.v1+json": {
       "config": {
        "plotlyServerURL": "https://plot.ly"
       },
       "data": [
        {
         "alignmentgroup": "True",
         "hovertemplate": "root_category=giay-nam<br>category_name=%{x}<br>estimated_revenue=%{y}<extra></extra>",
         "legendgroup": "giay-nam",
         "marker": {
          "color": "#636efa",
          "pattern": {
           "shape": ""
          }
         },
         "name": "giay-nam",
         "offsetgroup": "giay-nam",
         "orientation": "v",
         "showlegend": true,
         "textposition": "auto",
         "type": "bar",
         "x": [
          "MAN-giay-the-thao-nam-co-thap",
          "MAN-giay-the-thao-nam-co-cao",
          "MAN-dep-nam-quai-ngang",
          "MAN-giay-boots-nam",
          "MAN-giay-luoi-da-nam",
          "MAN-giay-sandals-nam-quai-ngang",
          "MAN-giay-tay-nam-co-day",
          "MAN-ve-sinh-giay",
          "MAN-dep-nam-xo-ngon",
          "MAN-giay-tay-nam-khong-day",
          "MAN-phu-kien-cho-giay-nam",
          "MAN-mieng-lot-giay-nam",
          "MAN-giay-luoi-nhua-nam",
          "MAN-giay-luoi-vai-nam",
          "MAN-giay-sandals-nam-quai-cheo",
          "MAN-dep-nam-di-trong-nha"
         ],
         "xaxis": "x",
         "y": [
          6660727700,
          3314021387,
          2797861951,
          2057068223,
          1641634931,
          1585167483,
          1523726730,
          1401355311,
          1005845132,
          971054010,
          859935467,
          554003110,
          521453374,
          520783579,
          299996878,
          75785799
         ],
         "yaxis": "y"
        },
        {
         "alignmentgroup": "True",
         "hovertemplate": "root_category=giay-nu<br>category_name=%{x}<br>estimated_revenue=%{y}<extra></extra>",
         "legendgroup": "giay-nu",
         "marker": {
          "color": "#EF553B",
          "pattern": {
           "shape": ""
          }
         },
         "name": "giay-nu",
         "offsetgroup": "giay-nu",
         "orientation": "v",
         "showlegend": true,
         "textposition": "auto",
         "type": "bar",
         "x": [
          "WOMAN-giay-the-thao-co-thap",
          "WOMAN-dep-quai-ngang",
          "WOMAN-giay-sandals-de-bang",
          "WOMAN-mieng-lot-giay",
          "WOMAN-dep-di-trong-nha",
          "WOMAN-giay-boots-nu",
          "WOMAN-giay-bup-be-mui-tron",
          "WOMAN-giay-luoi-nu",
          "WOMAN-giay-de-xuong-nu",
          "WOMAN-giay-cao-got-ho-mui",
          "WOMAN-giay-bit-mui-quai-ngang",
          "WOMAN-giay-cao-got-nhon",
          "WOMAN-dep-xo-ngon",
          "WOMAN-ve-sinh-giay",
          "WOMAN-giay-the-thao-co-cao",
          "WOMAN-phu-kien-cho-giay",
          "WOMAN-giay-bup-be-mui-nhon",
          "WOMAN-giay-cao-got-suc",
          "WOMAN-giay-sandals-xo-ngon",
          "WOMAN-giay-cao-got-quai-sau",
          "WOMAN-giay-bup-be-mui-vuong",
          "WOMAN-giay-sandals-buoc-day",
          "WOMAN-giay-sandals-chien-binh"
         ],
         "xaxis": "x",
         "y": [
          3113291410,
          2417929135,
          1674364277,
          1628795286,
          1590131699,
          1558157510,
          1525759712,
          1251342045,
          977775858,
          933100310,
          812387210,
          542898579,
          509699881,
          339930408,
          325961600,
          296707118,
          171706500,
          164709720,
          158423380,
          131013600,
          7743150,
          7300000,
          2719000
         ],
         "yaxis": "y"
        }
       ],
       "layout": {
        "barmode": "relative",
        "legend": {
         "title": {
          "text": "root_category"
         },
         "tracegroupgap": 0
        },
        "margin": {
         "t": 60
        },
        "template": {
         "data": {
          "bar": [
           {
            "error_x": {
             "color": "#2a3f5f"
            },
            "error_y": {
             "color": "#2a3f5f"
            },
            "marker": {
             "line": {
              "color": "#E5ECF6",
              "width": 0.5
             },
             "pattern": {
              "fillmode": "overlay",
              "size": 10,
              "solidity": 0.2
             }
            },
            "type": "bar"
           }
          ],
          "barpolar": [
           {
            "marker": {
             "line": {
              "color": "#E5ECF6",
              "width": 0.5
             },
             "pattern": {
              "fillmode": "overlay",
              "size": 10,
              "solidity": 0.2
             }
            },
            "type": "barpolar"
           }
          ],
          "carpet": [
           {
            "aaxis": {
             "endlinecolor": "#2a3f5f",
             "gridcolor": "white",
             "linecolor": "white",
             "minorgridcolor": "white",
             "startlinecolor": "#2a3f5f"
            },
            "baxis": {
             "endlinecolor": "#2a3f5f",
             "gridcolor": "white",
             "linecolor": "white",
             "minorgridcolor": "white",
             "startlinecolor": "#2a3f5f"
            },
            "type": "carpet"
           }
          ],
          "choropleth": [
           {
            "colorbar": {
             "outlinewidth": 0,
             "ticks": ""
            },
            "type": "choropleth"
           }
          ],
          "contour": [
           {
            "colorbar": {
             "outlinewidth": 0,
             "ticks": ""
            },
            "colorscale": [
             [
              0,
              "#0d0887"
             ],
             [
              0.1111111111111111,
              "#46039f"
             ],
             [
              0.2222222222222222,
              "#7201a8"
             ],
             [
              0.3333333333333333,
              "#9c179e"
             ],
             [
              0.4444444444444444,
              "#bd3786"
             ],
             [
              0.5555555555555556,
              "#d8576b"
             ],
             [
              0.6666666666666666,
              "#ed7953"
             ],
             [
              0.7777777777777778,
              "#fb9f3a"
             ],
             [
              0.8888888888888888,
              "#fdca26"
             ],
             [
              1,
              "#f0f921"
             ]
            ],
            "type": "contour"
           }
          ],
          "contourcarpet": [
           {
            "colorbar": {
             "outlinewidth": 0,
             "ticks": ""
            },
            "type": "contourcarpet"
           }
          ],
          "heatmap": [
           {
            "colorbar": {
             "outlinewidth": 0,
             "ticks": ""
            },
            "colorscale": [
             [
              0,
              "#0d0887"
             ],
             [
              0.1111111111111111,
              "#46039f"
             ],
             [
              0.2222222222222222,
              "#7201a8"
             ],
             [
              0.3333333333333333,
              "#9c179e"
             ],
             [
              0.4444444444444444,
              "#bd3786"
             ],
             [
              0.5555555555555556,
              "#d8576b"
             ],
             [
              0.6666666666666666,
              "#ed7953"
             ],
             [
              0.7777777777777778,
              "#fb9f3a"
             ],
             [
              0.8888888888888888,
              "#fdca26"
             ],
             [
              1,
              "#f0f921"
             ]
            ],
            "type": "heatmap"
           }
          ],
          "heatmapgl": [
           {
            "colorbar": {
             "outlinewidth": 0,
             "ticks": ""
            },
            "colorscale": [
             [
              0,
              "#0d0887"
             ],
             [
              0.1111111111111111,
              "#46039f"
             ],
             [
              0.2222222222222222,
              "#7201a8"
             ],
             [
              0.3333333333333333,
              "#9c179e"
             ],
             [
              0.4444444444444444,
              "#bd3786"
             ],
             [
              0.5555555555555556,
              "#d8576b"
             ],
             [
              0.6666666666666666,
              "#ed7953"
             ],
             [
              0.7777777777777778,
              "#fb9f3a"
             ],
             [
              0.8888888888888888,
              "#fdca26"
             ],
             [
              1,
              "#f0f921"
             ]
            ],
            "type": "heatmapgl"
           }
          ],
          "histogram": [
           {
            "marker": {
             "pattern": {
              "fillmode": "overlay",
              "size": 10,
              "solidity": 0.2
             }
            },
            "type": "histogram"
           }
          ],
          "histogram2d": [
           {
            "colorbar": {
             "outlinewidth": 0,
             "ticks": ""
            },
            "colorscale": [
             [
              0,
              "#0d0887"
             ],
             [
              0.1111111111111111,
              "#46039f"
             ],
             [
              0.2222222222222222,
              "#7201a8"
             ],
             [
              0.3333333333333333,
              "#9c179e"
             ],
             [
              0.4444444444444444,
              "#bd3786"
             ],
             [
              0.5555555555555556,
              "#d8576b"
             ],
             [
              0.6666666666666666,
              "#ed7953"
             ],
             [
              0.7777777777777778,
              "#fb9f3a"
             ],
             [
              0.8888888888888888,
              "#fdca26"
             ],
             [
              1,
              "#f0f921"
             ]
            ],
            "type": "histogram2d"
           }
          ],
          "histogram2dcontour": [
           {
            "colorbar": {
             "outlinewidth": 0,
             "ticks": ""
            },
            "colorscale": [
             [
              0,
              "#0d0887"
             ],
             [
              0.1111111111111111,
              "#46039f"
             ],
             [
              0.2222222222222222,
              "#7201a8"
             ],
             [
              0.3333333333333333,
              "#9c179e"
             ],
             [
              0.4444444444444444,
              "#bd3786"
             ],
             [
              0.5555555555555556,
              "#d8576b"
             ],
             [
              0.6666666666666666,
              "#ed7953"
             ],
             [
              0.7777777777777778,
              "#fb9f3a"
             ],
             [
              0.8888888888888888,
              "#fdca26"
             ],
             [
              1,
              "#f0f921"
             ]
            ],
            "type": "histogram2dcontour"
           }
          ],
          "mesh3d": [
           {
            "colorbar": {
             "outlinewidth": 0,
             "ticks": ""
            },
            "type": "mesh3d"
           }
          ],
          "parcoords": [
           {
            "line": {
             "colorbar": {
              "outlinewidth": 0,
              "ticks": ""
             }
            },
            "type": "parcoords"
           }
          ],
          "pie": [
           {
            "automargin": true,
            "type": "pie"
           }
          ],
          "scatter": [
           {
            "fillpattern": {
             "fillmode": "overlay",
             "size": 10,
             "solidity": 0.2
            },
            "type": "scatter"
           }
          ],
          "scatter3d": [
           {
            "line": {
             "colorbar": {
              "outlinewidth": 0,
              "ticks": ""
             }
            },
            "marker": {
             "colorbar": {
              "outlinewidth": 0,
              "ticks": ""
             }
            },
            "type": "scatter3d"
           }
          ],
          "scattercarpet": [
           {
            "marker": {
             "colorbar": {
              "outlinewidth": 0,
              "ticks": ""
             }
            },
            "type": "scattercarpet"
           }
          ],
          "scattergeo": [
           {
            "marker": {
             "colorbar": {
              "outlinewidth": 0,
              "ticks": ""
             }
            },
            "type": "scattergeo"
           }
          ],
          "scattergl": [
           {
            "marker": {
             "colorbar": {
              "outlinewidth": 0,
              "ticks": ""
             }
            },
            "type": "scattergl"
           }
          ],
          "scattermapbox": [
           {
            "marker": {
             "colorbar": {
              "outlinewidth": 0,
              "ticks": ""
             }
            },
            "type": "scattermapbox"
           }
          ],
          "scatterpolar": [
           {
            "marker": {
             "colorbar": {
              "outlinewidth": 0,
              "ticks": ""
             }
            },
            "type": "scatterpolar"
           }
          ],
          "scatterpolargl": [
           {
            "marker": {
             "colorbar": {
              "outlinewidth": 0,
              "ticks": ""
             }
            },
            "type": "scatterpolargl"
           }
          ],
          "scatterternary": [
           {
            "marker": {
             "colorbar": {
              "outlinewidth": 0,
              "ticks": ""
             }
            },
            "type": "scatterternary"
           }
          ],
          "surface": [
           {
            "colorbar": {
             "outlinewidth": 0,
             "ticks": ""
            },
            "colorscale": [
             [
              0,
              "#0d0887"
             ],
             [
              0.1111111111111111,
              "#46039f"
             ],
             [
              0.2222222222222222,
              "#7201a8"
             ],
             [
              0.3333333333333333,
              "#9c179e"
             ],
             [
              0.4444444444444444,
              "#bd3786"
             ],
             [
              0.5555555555555556,
              "#d8576b"
             ],
             [
              0.6666666666666666,
              "#ed7953"
             ],
             [
              0.7777777777777778,
              "#fb9f3a"
             ],
             [
              0.8888888888888888,
              "#fdca26"
             ],
             [
              1,
              "#f0f921"
             ]
            ],
            "type": "surface"
           }
          ],
          "table": [
           {
            "cells": {
             "fill": {
              "color": "#EBF0F8"
             },
             "line": {
              "color": "white"
             }
            },
            "header": {
             "fill": {
              "color": "#C8D4E3"
             },
             "line": {
              "color": "white"
             }
            },
            "type": "table"
           }
          ]
         },
         "layout": {
          "annotationdefaults": {
           "arrowcolor": "#2a3f5f",
           "arrowhead": 0,
           "arrowwidth": 1
          },
          "autotypenumbers": "strict",
          "coloraxis": {
           "colorbar": {
            "outlinewidth": 0,
            "ticks": ""
           }
          },
          "colorscale": {
           "diverging": [
            [
             0,
             "#8e0152"
            ],
            [
             0.1,
             "#c51b7d"
            ],
            [
             0.2,
             "#de77ae"
            ],
            [
             0.3,
             "#f1b6da"
            ],
            [
             0.4,
             "#fde0ef"
            ],
            [
             0.5,
             "#f7f7f7"
            ],
            [
             0.6,
             "#e6f5d0"
            ],
            [
             0.7,
             "#b8e186"
            ],
            [
             0.8,
             "#7fbc41"
            ],
            [
             0.9,
             "#4d9221"
            ],
            [
             1,
             "#276419"
            ]
           ],
           "sequential": [
            [
             0,
             "#0d0887"
            ],
            [
             0.1111111111111111,
             "#46039f"
            ],
            [
             0.2222222222222222,
             "#7201a8"
            ],
            [
             0.3333333333333333,
             "#9c179e"
            ],
            [
             0.4444444444444444,
             "#bd3786"
            ],
            [
             0.5555555555555556,
             "#d8576b"
            ],
            [
             0.6666666666666666,
             "#ed7953"
            ],
            [
             0.7777777777777778,
             "#fb9f3a"
            ],
            [
             0.8888888888888888,
             "#fdca26"
            ],
            [
             1,
             "#f0f921"
            ]
           ],
           "sequentialminus": [
            [
             0,
             "#0d0887"
            ],
            [
             0.1111111111111111,
             "#46039f"
            ],
            [
             0.2222222222222222,
             "#7201a8"
            ],
            [
             0.3333333333333333,
             "#9c179e"
            ],
            [
             0.4444444444444444,
             "#bd3786"
            ],
            [
             0.5555555555555556,
             "#d8576b"
            ],
            [
             0.6666666666666666,
             "#ed7953"
            ],
            [
             0.7777777777777778,
             "#fb9f3a"
            ],
            [
             0.8888888888888888,
             "#fdca26"
            ],
            [
             1,
             "#f0f921"
            ]
           ]
          },
          "colorway": [
           "#636efa",
           "#EF553B",
           "#00cc96",
           "#ab63fa",
           "#FFA15A",
           "#19d3f3",
           "#FF6692",
           "#B6E880",
           "#FF97FF",
           "#FECB52"
          ],
          "font": {
           "color": "#2a3f5f"
          },
          "geo": {
           "bgcolor": "white",
           "lakecolor": "white",
           "landcolor": "#E5ECF6",
           "showlakes": true,
           "showland": true,
           "subunitcolor": "white"
          },
          "hoverlabel": {
           "align": "left"
          },
          "hovermode": "closest",
          "mapbox": {
           "style": "light"
          },
          "paper_bgcolor": "white",
          "plot_bgcolor": "#E5ECF6",
          "polar": {
           "angularaxis": {
            "gridcolor": "white",
            "linecolor": "white",
            "ticks": ""
           },
           "bgcolor": "#E5ECF6",
           "radialaxis": {
            "gridcolor": "white",
            "linecolor": "white",
            "ticks": ""
           }
          },
          "scene": {
           "xaxis": {
            "backgroundcolor": "#E5ECF6",
            "gridcolor": "white",
            "gridwidth": 2,
            "linecolor": "white",
            "showbackground": true,
            "ticks": "",
            "zerolinecolor": "white"
           },
           "yaxis": {
            "backgroundcolor": "#E5ECF6",
            "gridcolor": "white",
            "gridwidth": 2,
            "linecolor": "white",
            "showbackground": true,
            "ticks": "",
            "zerolinecolor": "white"
           },
           "zaxis": {
            "backgroundcolor": "#E5ECF6",
            "gridcolor": "white",
            "gridwidth": 2,
            "linecolor": "white",
            "showbackground": true,
            "ticks": "",
            "zerolinecolor": "white"
           }
          },
          "shapedefaults": {
           "line": {
            "color": "#2a3f5f"
           }
          },
          "ternary": {
           "aaxis": {
            "gridcolor": "white",
            "linecolor": "white",
            "ticks": ""
           },
           "baxis": {
            "gridcolor": "white",
            "linecolor": "white",
            "ticks": ""
           },
           "bgcolor": "#E5ECF6",
           "caxis": {
            "gridcolor": "white",
            "linecolor": "white",
            "ticks": ""
           }
          },
          "title": {
           "x": 0.05
          },
          "xaxis": {
           "automargin": true,
           "gridcolor": "white",
           "linecolor": "white",
           "ticks": "",
           "title": {
            "standoff": 15
           },
           "zerolinecolor": "white",
           "zerolinewidth": 2
          },
          "yaxis": {
           "automargin": true,
           "gridcolor": "white",
           "linecolor": "white",
           "ticks": "",
           "title": {
            "standoff": 15
           },
           "zerolinecolor": "white",
           "zerolinewidth": 2
          }
         }
        },
        "title": {
         "text": "Estimated Revenue of Each Category"
        },
        "xaxis": {
         "anchor": "y",
         "domain": [
          0,
          1
         ],
         "title": {
          "text": "category_name"
         }
        },
        "yaxis": {
         "anchor": "x",
         "domain": [
          0,
          1
         ],
         "title": {
          "text": "estimated_revenue"
         }
        }
       }
      }
     },
     "metadata": {},
     "output_type": "display_data"
    }
   ],
   "source": [
    "concat_df['estimated_revenue'] = concat_df['price']*concat_df['alltime_quantity_sold']\n",
    "grouped_revenue_df = concat_df.groupby(['category_name', 'root_category'])['estimated_revenue'].sum().reset_index()\n",
    "grouped_revenue_df = grouped_revenue_df.sort_values(by='estimated_revenue',ascending=False)\n",
    "\n",
    "fig = px.bar(grouped_revenue_df, x='category_name', y='estimated_revenue', color='root_category')\n",
    "fig.update_layout(title='Estimated Revenue of Each Category')\n",
    "fig.show()"
   ]
  },
  {
   "attachments": {},
   "cell_type": "markdown",
   "metadata": {},
   "source": [
    "In this chart, I tried multiplying the 'list_price' & 'quantity sold' (just an estimated revenue because price has the trend to go down overtime, so this revenue is just an under-estimation for all categories)\n",
    "WE see that:\n",
    "- Men's SNEAKERS(both high-top and low-top models) sold the most revenue\n",
    "- 'Dép quai ngang' gets high revenue on both categories"
   ]
  },
  {
   "cell_type": "code",
   "execution_count": 455,
   "metadata": {},
   "outputs": [
    {
     "data": {
      "application/vnd.plotly.v1+json": {
       "config": {
        "plotlyServerURL": "https://plot.ly"
       },
       "data": [
        {
         "alignmentgroup": "True",
         "hovertemplate": "root_category=%{x}<br>estimated_revenue=%{y}<extra></extra>",
         "legendgroup": "giay-nam",
         "marker": {
          "color": "#636efa",
          "pattern": {
           "shape": ""
          }
         },
         "name": "giay-nam",
         "offsetgroup": "giay-nam",
         "orientation": "v",
         "showlegend": true,
         "textposition": "auto",
         "type": "bar",
         "x": [
          "giay-nam"
         ],
         "xaxis": "x",
         "y": [
          25790421065
         ],
         "yaxis": "y"
        },
        {
         "alignmentgroup": "True",
         "hovertemplate": "root_category=%{x}<br>estimated_revenue=%{y}<extra></extra>",
         "legendgroup": "giay-nu",
         "marker": {
          "color": "#EF553B",
          "pattern": {
           "shape": ""
          }
         },
         "name": "giay-nu",
         "offsetgroup": "giay-nu",
         "orientation": "v",
         "showlegend": true,
         "textposition": "auto",
         "type": "bar",
         "x": [
          "giay-nu"
         ],
         "xaxis": "x",
         "y": [
          20141847388
         ],
         "yaxis": "y"
        }
       ],
       "layout": {
        "barmode": "relative",
        "legend": {
         "title": {
          "text": "root_category"
         },
         "tracegroupgap": 0
        },
        "margin": {
         "t": 60
        },
        "template": {
         "data": {
          "bar": [
           {
            "error_x": {
             "color": "#2a3f5f"
            },
            "error_y": {
             "color": "#2a3f5f"
            },
            "marker": {
             "line": {
              "color": "#E5ECF6",
              "width": 0.5
             },
             "pattern": {
              "fillmode": "overlay",
              "size": 10,
              "solidity": 0.2
             }
            },
            "type": "bar"
           }
          ],
          "barpolar": [
           {
            "marker": {
             "line": {
              "color": "#E5ECF6",
              "width": 0.5
             },
             "pattern": {
              "fillmode": "overlay",
              "size": 10,
              "solidity": 0.2
             }
            },
            "type": "barpolar"
           }
          ],
          "carpet": [
           {
            "aaxis": {
             "endlinecolor": "#2a3f5f",
             "gridcolor": "white",
             "linecolor": "white",
             "minorgridcolor": "white",
             "startlinecolor": "#2a3f5f"
            },
            "baxis": {
             "endlinecolor": "#2a3f5f",
             "gridcolor": "white",
             "linecolor": "white",
             "minorgridcolor": "white",
             "startlinecolor": "#2a3f5f"
            },
            "type": "carpet"
           }
          ],
          "choropleth": [
           {
            "colorbar": {
             "outlinewidth": 0,
             "ticks": ""
            },
            "type": "choropleth"
           }
          ],
          "contour": [
           {
            "colorbar": {
             "outlinewidth": 0,
             "ticks": ""
            },
            "colorscale": [
             [
              0,
              "#0d0887"
             ],
             [
              0.1111111111111111,
              "#46039f"
             ],
             [
              0.2222222222222222,
              "#7201a8"
             ],
             [
              0.3333333333333333,
              "#9c179e"
             ],
             [
              0.4444444444444444,
              "#bd3786"
             ],
             [
              0.5555555555555556,
              "#d8576b"
             ],
             [
              0.6666666666666666,
              "#ed7953"
             ],
             [
              0.7777777777777778,
              "#fb9f3a"
             ],
             [
              0.8888888888888888,
              "#fdca26"
             ],
             [
              1,
              "#f0f921"
             ]
            ],
            "type": "contour"
           }
          ],
          "contourcarpet": [
           {
            "colorbar": {
             "outlinewidth": 0,
             "ticks": ""
            },
            "type": "contourcarpet"
           }
          ],
          "heatmap": [
           {
            "colorbar": {
             "outlinewidth": 0,
             "ticks": ""
            },
            "colorscale": [
             [
              0,
              "#0d0887"
             ],
             [
              0.1111111111111111,
              "#46039f"
             ],
             [
              0.2222222222222222,
              "#7201a8"
             ],
             [
              0.3333333333333333,
              "#9c179e"
             ],
             [
              0.4444444444444444,
              "#bd3786"
             ],
             [
              0.5555555555555556,
              "#d8576b"
             ],
             [
              0.6666666666666666,
              "#ed7953"
             ],
             [
              0.7777777777777778,
              "#fb9f3a"
             ],
             [
              0.8888888888888888,
              "#fdca26"
             ],
             [
              1,
              "#f0f921"
             ]
            ],
            "type": "heatmap"
           }
          ],
          "heatmapgl": [
           {
            "colorbar": {
             "outlinewidth": 0,
             "ticks": ""
            },
            "colorscale": [
             [
              0,
              "#0d0887"
             ],
             [
              0.1111111111111111,
              "#46039f"
             ],
             [
              0.2222222222222222,
              "#7201a8"
             ],
             [
              0.3333333333333333,
              "#9c179e"
             ],
             [
              0.4444444444444444,
              "#bd3786"
             ],
             [
              0.5555555555555556,
              "#d8576b"
             ],
             [
              0.6666666666666666,
              "#ed7953"
             ],
             [
              0.7777777777777778,
              "#fb9f3a"
             ],
             [
              0.8888888888888888,
              "#fdca26"
             ],
             [
              1,
              "#f0f921"
             ]
            ],
            "type": "heatmapgl"
           }
          ],
          "histogram": [
           {
            "marker": {
             "pattern": {
              "fillmode": "overlay",
              "size": 10,
              "solidity": 0.2
             }
            },
            "type": "histogram"
           }
          ],
          "histogram2d": [
           {
            "colorbar": {
             "outlinewidth": 0,
             "ticks": ""
            },
            "colorscale": [
             [
              0,
              "#0d0887"
             ],
             [
              0.1111111111111111,
              "#46039f"
             ],
             [
              0.2222222222222222,
              "#7201a8"
             ],
             [
              0.3333333333333333,
              "#9c179e"
             ],
             [
              0.4444444444444444,
              "#bd3786"
             ],
             [
              0.5555555555555556,
              "#d8576b"
             ],
             [
              0.6666666666666666,
              "#ed7953"
             ],
             [
              0.7777777777777778,
              "#fb9f3a"
             ],
             [
              0.8888888888888888,
              "#fdca26"
             ],
             [
              1,
              "#f0f921"
             ]
            ],
            "type": "histogram2d"
           }
          ],
          "histogram2dcontour": [
           {
            "colorbar": {
             "outlinewidth": 0,
             "ticks": ""
            },
            "colorscale": [
             [
              0,
              "#0d0887"
             ],
             [
              0.1111111111111111,
              "#46039f"
             ],
             [
              0.2222222222222222,
              "#7201a8"
             ],
             [
              0.3333333333333333,
              "#9c179e"
             ],
             [
              0.4444444444444444,
              "#bd3786"
             ],
             [
              0.5555555555555556,
              "#d8576b"
             ],
             [
              0.6666666666666666,
              "#ed7953"
             ],
             [
              0.7777777777777778,
              "#fb9f3a"
             ],
             [
              0.8888888888888888,
              "#fdca26"
             ],
             [
              1,
              "#f0f921"
             ]
            ],
            "type": "histogram2dcontour"
           }
          ],
          "mesh3d": [
           {
            "colorbar": {
             "outlinewidth": 0,
             "ticks": ""
            },
            "type": "mesh3d"
           }
          ],
          "parcoords": [
           {
            "line": {
             "colorbar": {
              "outlinewidth": 0,
              "ticks": ""
             }
            },
            "type": "parcoords"
           }
          ],
          "pie": [
           {
            "automargin": true,
            "type": "pie"
           }
          ],
          "scatter": [
           {
            "fillpattern": {
             "fillmode": "overlay",
             "size": 10,
             "solidity": 0.2
            },
            "type": "scatter"
           }
          ],
          "scatter3d": [
           {
            "line": {
             "colorbar": {
              "outlinewidth": 0,
              "ticks": ""
             }
            },
            "marker": {
             "colorbar": {
              "outlinewidth": 0,
              "ticks": ""
             }
            },
            "type": "scatter3d"
           }
          ],
          "scattercarpet": [
           {
            "marker": {
             "colorbar": {
              "outlinewidth": 0,
              "ticks": ""
             }
            },
            "type": "scattercarpet"
           }
          ],
          "scattergeo": [
           {
            "marker": {
             "colorbar": {
              "outlinewidth": 0,
              "ticks": ""
             }
            },
            "type": "scattergeo"
           }
          ],
          "scattergl": [
           {
            "marker": {
             "colorbar": {
              "outlinewidth": 0,
              "ticks": ""
             }
            },
            "type": "scattergl"
           }
          ],
          "scattermapbox": [
           {
            "marker": {
             "colorbar": {
              "outlinewidth": 0,
              "ticks": ""
             }
            },
            "type": "scattermapbox"
           }
          ],
          "scatterpolar": [
           {
            "marker": {
             "colorbar": {
              "outlinewidth": 0,
              "ticks": ""
             }
            },
            "type": "scatterpolar"
           }
          ],
          "scatterpolargl": [
           {
            "marker": {
             "colorbar": {
              "outlinewidth": 0,
              "ticks": ""
             }
            },
            "type": "scatterpolargl"
           }
          ],
          "scatterternary": [
           {
            "marker": {
             "colorbar": {
              "outlinewidth": 0,
              "ticks": ""
             }
            },
            "type": "scatterternary"
           }
          ],
          "surface": [
           {
            "colorbar": {
             "outlinewidth": 0,
             "ticks": ""
            },
            "colorscale": [
             [
              0,
              "#0d0887"
             ],
             [
              0.1111111111111111,
              "#46039f"
             ],
             [
              0.2222222222222222,
              "#7201a8"
             ],
             [
              0.3333333333333333,
              "#9c179e"
             ],
             [
              0.4444444444444444,
              "#bd3786"
             ],
             [
              0.5555555555555556,
              "#d8576b"
             ],
             [
              0.6666666666666666,
              "#ed7953"
             ],
             [
              0.7777777777777778,
              "#fb9f3a"
             ],
             [
              0.8888888888888888,
              "#fdca26"
             ],
             [
              1,
              "#f0f921"
             ]
            ],
            "type": "surface"
           }
          ],
          "table": [
           {
            "cells": {
             "fill": {
              "color": "#EBF0F8"
             },
             "line": {
              "color": "white"
             }
            },
            "header": {
             "fill": {
              "color": "#C8D4E3"
             },
             "line": {
              "color": "white"
             }
            },
            "type": "table"
           }
          ]
         },
         "layout": {
          "annotationdefaults": {
           "arrowcolor": "#2a3f5f",
           "arrowhead": 0,
           "arrowwidth": 1
          },
          "autotypenumbers": "strict",
          "coloraxis": {
           "colorbar": {
            "outlinewidth": 0,
            "ticks": ""
           }
          },
          "colorscale": {
           "diverging": [
            [
             0,
             "#8e0152"
            ],
            [
             0.1,
             "#c51b7d"
            ],
            [
             0.2,
             "#de77ae"
            ],
            [
             0.3,
             "#f1b6da"
            ],
            [
             0.4,
             "#fde0ef"
            ],
            [
             0.5,
             "#f7f7f7"
            ],
            [
             0.6,
             "#e6f5d0"
            ],
            [
             0.7,
             "#b8e186"
            ],
            [
             0.8,
             "#7fbc41"
            ],
            [
             0.9,
             "#4d9221"
            ],
            [
             1,
             "#276419"
            ]
           ],
           "sequential": [
            [
             0,
             "#0d0887"
            ],
            [
             0.1111111111111111,
             "#46039f"
            ],
            [
             0.2222222222222222,
             "#7201a8"
            ],
            [
             0.3333333333333333,
             "#9c179e"
            ],
            [
             0.4444444444444444,
             "#bd3786"
            ],
            [
             0.5555555555555556,
             "#d8576b"
            ],
            [
             0.6666666666666666,
             "#ed7953"
            ],
            [
             0.7777777777777778,
             "#fb9f3a"
            ],
            [
             0.8888888888888888,
             "#fdca26"
            ],
            [
             1,
             "#f0f921"
            ]
           ],
           "sequentialminus": [
            [
             0,
             "#0d0887"
            ],
            [
             0.1111111111111111,
             "#46039f"
            ],
            [
             0.2222222222222222,
             "#7201a8"
            ],
            [
             0.3333333333333333,
             "#9c179e"
            ],
            [
             0.4444444444444444,
             "#bd3786"
            ],
            [
             0.5555555555555556,
             "#d8576b"
            ],
            [
             0.6666666666666666,
             "#ed7953"
            ],
            [
             0.7777777777777778,
             "#fb9f3a"
            ],
            [
             0.8888888888888888,
             "#fdca26"
            ],
            [
             1,
             "#f0f921"
            ]
           ]
          },
          "colorway": [
           "#636efa",
           "#EF553B",
           "#00cc96",
           "#ab63fa",
           "#FFA15A",
           "#19d3f3",
           "#FF6692",
           "#B6E880",
           "#FF97FF",
           "#FECB52"
          ],
          "font": {
           "color": "#2a3f5f"
          },
          "geo": {
           "bgcolor": "white",
           "lakecolor": "white",
           "landcolor": "#E5ECF6",
           "showlakes": true,
           "showland": true,
           "subunitcolor": "white"
          },
          "hoverlabel": {
           "align": "left"
          },
          "hovermode": "closest",
          "mapbox": {
           "style": "light"
          },
          "paper_bgcolor": "white",
          "plot_bgcolor": "#E5ECF6",
          "polar": {
           "angularaxis": {
            "gridcolor": "white",
            "linecolor": "white",
            "ticks": ""
           },
           "bgcolor": "#E5ECF6",
           "radialaxis": {
            "gridcolor": "white",
            "linecolor": "white",
            "ticks": ""
           }
          },
          "scene": {
           "xaxis": {
            "backgroundcolor": "#E5ECF6",
            "gridcolor": "white",
            "gridwidth": 2,
            "linecolor": "white",
            "showbackground": true,
            "ticks": "",
            "zerolinecolor": "white"
           },
           "yaxis": {
            "backgroundcolor": "#E5ECF6",
            "gridcolor": "white",
            "gridwidth": 2,
            "linecolor": "white",
            "showbackground": true,
            "ticks": "",
            "zerolinecolor": "white"
           },
           "zaxis": {
            "backgroundcolor": "#E5ECF6",
            "gridcolor": "white",
            "gridwidth": 2,
            "linecolor": "white",
            "showbackground": true,
            "ticks": "",
            "zerolinecolor": "white"
           }
          },
          "shapedefaults": {
           "line": {
            "color": "#2a3f5f"
           }
          },
          "ternary": {
           "aaxis": {
            "gridcolor": "white",
            "linecolor": "white",
            "ticks": ""
           },
           "baxis": {
            "gridcolor": "white",
            "linecolor": "white",
            "ticks": ""
           },
           "bgcolor": "#E5ECF6",
           "caxis": {
            "gridcolor": "white",
            "linecolor": "white",
            "ticks": ""
           }
          },
          "title": {
           "x": 0.05
          },
          "xaxis": {
           "automargin": true,
           "gridcolor": "white",
           "linecolor": "white",
           "ticks": "",
           "title": {
            "standoff": 15
           },
           "zerolinecolor": "white",
           "zerolinewidth": 2
          },
          "yaxis": {
           "automargin": true,
           "gridcolor": "white",
           "linecolor": "white",
           "ticks": "",
           "title": {
            "standoff": 15
           },
           "zerolinecolor": "white",
           "zerolinewidth": 2
          }
         }
        },
        "title": {
         "text": "Estimated Revenue of Each Category"
        },
        "xaxis": {
         "anchor": "y",
         "categoryarray": [
          "giay-nam",
          "giay-nu"
         ],
         "categoryorder": "array",
         "domain": [
          0,
          1
         ],
         "title": {
          "text": "root_category"
         }
        },
        "yaxis": {
         "anchor": "x",
         "domain": [
          0,
          1
         ],
         "title": {
          "text": "estimated_revenue"
         }
        }
       }
      }
     },
     "metadata": {},
     "output_type": "display_data"
    }
   ],
   "source": [
    "grouped_revenue_df = concat_df.groupby('root_category')['estimated_revenue'].sum().reset_index()\n",
    "grouped_revenue_df = grouped_revenue_df.sort_values(by='estimated_revenue', ascending=False)\n",
    "\n",
    "fig = px.bar(grouped_revenue_df, x='root_category', y='estimated_revenue', color='root_category')\n",
    "fig.update_layout(title='Estimated Revenue of Each Category')\n",
    "fig.show()"
   ]
  },
  {
   "attachments": {},
   "cell_type": "markdown",
   "metadata": {},
   "source": [
    "We can see a fun fact here:\n",
    "Even though the WOMEN's shoes categories have more products posted than MEN's (24,731 women' items > 17713 men's items) nearly 1.4x products id of men's id, the estimated revenue for men's shoes is higher (25.79B men's revenue > 20.14B women's revenue) nearly 1.28x"
   ]
  },
  {
   "cell_type": "code",
   "execution_count": 459,
   "metadata": {},
   "outputs": [
    {
     "data": {
      "application/vnd.plotly.v1+json": {
       "config": {
        "plotlyServerURL": "https://plot.ly"
       },
       "data": [
        {
         "alignmentgroup": "True",
         "hovertemplate": "root_category=giay-nam<br>brand=%{x}<br>estimated_revenue=%{y}<extra></extra>",
         "legendgroup": "giay-nam",
         "marker": {
          "color": "#636efa",
          "pattern": {
           "shape": ""
          }
         },
         "name": "giay-nam",
         "offsetgroup": "giay-nam",
         "orientation": "v",
         "showlegend": true,
         "textposition": "auto",
         "type": "bar",
         "x": [
          "BAZAS",
          "BIGGBEN",
          "Biti's",
          "Bụi Leather",
          "Converse",
          "Crep Protect",
          "Crocs",
          "DySeven",
          "HT.NEO",
          "Laceva",
          "Lê Sang",
          "OEM",
          "Pettino",
          "Pierre Cardin",
          "Vento",
          "Ximo",
          "ZAVAS",
          "buybox"
         ],
         "xaxis": "x",
         "y": [
          540403000,
          588272000,
          566811200,
          515428000,
          2615370000,
          831875000,
          409131000,
          634945000,
          131455000,
          580369000,
          1038140984,
          9281876845,
          902302000,
          219705500,
          303807300,
          724125000,
          1006870000,
          169118451
         ],
         "yaxis": "y"
        },
        {
         "alignmentgroup": "True",
         "hovertemplate": "root_category=giay-nu<br>brand=%{x}<br>estimated_revenue=%{y}<extra></extra>",
         "legendgroup": "giay-nu",
         "marker": {
          "color": "#EF553B",
          "pattern": {
           "shape": ""
          }
         },
         "name": "giay-nu",
         "offsetgroup": "giay-nu",
         "orientation": "v",
         "showlegend": true,
         "textposition": "auto",
         "type": "bar",
         "x": [
          "BAZAS",
          "BIGGBEN",
          "Biti's",
          "Converse",
          "Crep Protect",
          "Crocs",
          "Erosska",
          "HT.NEO",
          "Laceva",
          "Lê Sang",
          "OEM",
          "Pettino",
          "Pierre Cardin",
          "Pixie",
          "Vento",
          "Ximo",
          "ZAVAS",
          "buybox"
         ],
         "xaxis": "x",
         "y": [
          329291000,
          1940972000,
          398069290,
          156690000,
          10230000,
          514954000,
          940134000,
          301000000,
          475148000,
          261756500,
          8651622317,
          46000000,
          136620000,
          438828000,
          72686000,
          10030000,
          683293000,
          927767296
         ],
         "yaxis": "y"
        }
       ],
       "layout": {
        "barmode": "group",
        "legend": {
         "title": {
          "text": "root_category"
         },
         "tracegroupgap": 0
        },
        "margin": {
         "t": 60
        },
        "template": {
         "data": {
          "bar": [
           {
            "error_x": {
             "color": "#2a3f5f"
            },
            "error_y": {
             "color": "#2a3f5f"
            },
            "marker": {
             "line": {
              "color": "#E5ECF6",
              "width": 0.5
             },
             "pattern": {
              "fillmode": "overlay",
              "size": 10,
              "solidity": 0.2
             }
            },
            "type": "bar"
           }
          ],
          "barpolar": [
           {
            "marker": {
             "line": {
              "color": "#E5ECF6",
              "width": 0.5
             },
             "pattern": {
              "fillmode": "overlay",
              "size": 10,
              "solidity": 0.2
             }
            },
            "type": "barpolar"
           }
          ],
          "carpet": [
           {
            "aaxis": {
             "endlinecolor": "#2a3f5f",
             "gridcolor": "white",
             "linecolor": "white",
             "minorgridcolor": "white",
             "startlinecolor": "#2a3f5f"
            },
            "baxis": {
             "endlinecolor": "#2a3f5f",
             "gridcolor": "white",
             "linecolor": "white",
             "minorgridcolor": "white",
             "startlinecolor": "#2a3f5f"
            },
            "type": "carpet"
           }
          ],
          "choropleth": [
           {
            "colorbar": {
             "outlinewidth": 0,
             "ticks": ""
            },
            "type": "choropleth"
           }
          ],
          "contour": [
           {
            "colorbar": {
             "outlinewidth": 0,
             "ticks": ""
            },
            "colorscale": [
             [
              0,
              "#0d0887"
             ],
             [
              0.1111111111111111,
              "#46039f"
             ],
             [
              0.2222222222222222,
              "#7201a8"
             ],
             [
              0.3333333333333333,
              "#9c179e"
             ],
             [
              0.4444444444444444,
              "#bd3786"
             ],
             [
              0.5555555555555556,
              "#d8576b"
             ],
             [
              0.6666666666666666,
              "#ed7953"
             ],
             [
              0.7777777777777778,
              "#fb9f3a"
             ],
             [
              0.8888888888888888,
              "#fdca26"
             ],
             [
              1,
              "#f0f921"
             ]
            ],
            "type": "contour"
           }
          ],
          "contourcarpet": [
           {
            "colorbar": {
             "outlinewidth": 0,
             "ticks": ""
            },
            "type": "contourcarpet"
           }
          ],
          "heatmap": [
           {
            "colorbar": {
             "outlinewidth": 0,
             "ticks": ""
            },
            "colorscale": [
             [
              0,
              "#0d0887"
             ],
             [
              0.1111111111111111,
              "#46039f"
             ],
             [
              0.2222222222222222,
              "#7201a8"
             ],
             [
              0.3333333333333333,
              "#9c179e"
             ],
             [
              0.4444444444444444,
              "#bd3786"
             ],
             [
              0.5555555555555556,
              "#d8576b"
             ],
             [
              0.6666666666666666,
              "#ed7953"
             ],
             [
              0.7777777777777778,
              "#fb9f3a"
             ],
             [
              0.8888888888888888,
              "#fdca26"
             ],
             [
              1,
              "#f0f921"
             ]
            ],
            "type": "heatmap"
           }
          ],
          "heatmapgl": [
           {
            "colorbar": {
             "outlinewidth": 0,
             "ticks": ""
            },
            "colorscale": [
             [
              0,
              "#0d0887"
             ],
             [
              0.1111111111111111,
              "#46039f"
             ],
             [
              0.2222222222222222,
              "#7201a8"
             ],
             [
              0.3333333333333333,
              "#9c179e"
             ],
             [
              0.4444444444444444,
              "#bd3786"
             ],
             [
              0.5555555555555556,
              "#d8576b"
             ],
             [
              0.6666666666666666,
              "#ed7953"
             ],
             [
              0.7777777777777778,
              "#fb9f3a"
             ],
             [
              0.8888888888888888,
              "#fdca26"
             ],
             [
              1,
              "#f0f921"
             ]
            ],
            "type": "heatmapgl"
           }
          ],
          "histogram": [
           {
            "marker": {
             "pattern": {
              "fillmode": "overlay",
              "size": 10,
              "solidity": 0.2
             }
            },
            "type": "histogram"
           }
          ],
          "histogram2d": [
           {
            "colorbar": {
             "outlinewidth": 0,
             "ticks": ""
            },
            "colorscale": [
             [
              0,
              "#0d0887"
             ],
             [
              0.1111111111111111,
              "#46039f"
             ],
             [
              0.2222222222222222,
              "#7201a8"
             ],
             [
              0.3333333333333333,
              "#9c179e"
             ],
             [
              0.4444444444444444,
              "#bd3786"
             ],
             [
              0.5555555555555556,
              "#d8576b"
             ],
             [
              0.6666666666666666,
              "#ed7953"
             ],
             [
              0.7777777777777778,
              "#fb9f3a"
             ],
             [
              0.8888888888888888,
              "#fdca26"
             ],
             [
              1,
              "#f0f921"
             ]
            ],
            "type": "histogram2d"
           }
          ],
          "histogram2dcontour": [
           {
            "colorbar": {
             "outlinewidth": 0,
             "ticks": ""
            },
            "colorscale": [
             [
              0,
              "#0d0887"
             ],
             [
              0.1111111111111111,
              "#46039f"
             ],
             [
              0.2222222222222222,
              "#7201a8"
             ],
             [
              0.3333333333333333,
              "#9c179e"
             ],
             [
              0.4444444444444444,
              "#bd3786"
             ],
             [
              0.5555555555555556,
              "#d8576b"
             ],
             [
              0.6666666666666666,
              "#ed7953"
             ],
             [
              0.7777777777777778,
              "#fb9f3a"
             ],
             [
              0.8888888888888888,
              "#fdca26"
             ],
             [
              1,
              "#f0f921"
             ]
            ],
            "type": "histogram2dcontour"
           }
          ],
          "mesh3d": [
           {
            "colorbar": {
             "outlinewidth": 0,
             "ticks": ""
            },
            "type": "mesh3d"
           }
          ],
          "parcoords": [
           {
            "line": {
             "colorbar": {
              "outlinewidth": 0,
              "ticks": ""
             }
            },
            "type": "parcoords"
           }
          ],
          "pie": [
           {
            "automargin": true,
            "type": "pie"
           }
          ],
          "scatter": [
           {
            "fillpattern": {
             "fillmode": "overlay",
             "size": 10,
             "solidity": 0.2
            },
            "type": "scatter"
           }
          ],
          "scatter3d": [
           {
            "line": {
             "colorbar": {
              "outlinewidth": 0,
              "ticks": ""
             }
            },
            "marker": {
             "colorbar": {
              "outlinewidth": 0,
              "ticks": ""
             }
            },
            "type": "scatter3d"
           }
          ],
          "scattercarpet": [
           {
            "marker": {
             "colorbar": {
              "outlinewidth": 0,
              "ticks": ""
             }
            },
            "type": "scattercarpet"
           }
          ],
          "scattergeo": [
           {
            "marker": {
             "colorbar": {
              "outlinewidth": 0,
              "ticks": ""
             }
            },
            "type": "scattergeo"
           }
          ],
          "scattergl": [
           {
            "marker": {
             "colorbar": {
              "outlinewidth": 0,
              "ticks": ""
             }
            },
            "type": "scattergl"
           }
          ],
          "scattermapbox": [
           {
            "marker": {
             "colorbar": {
              "outlinewidth": 0,
              "ticks": ""
             }
            },
            "type": "scattermapbox"
           }
          ],
          "scatterpolar": [
           {
            "marker": {
             "colorbar": {
              "outlinewidth": 0,
              "ticks": ""
             }
            },
            "type": "scatterpolar"
           }
          ],
          "scatterpolargl": [
           {
            "marker": {
             "colorbar": {
              "outlinewidth": 0,
              "ticks": ""
             }
            },
            "type": "scatterpolargl"
           }
          ],
          "scatterternary": [
           {
            "marker": {
             "colorbar": {
              "outlinewidth": 0,
              "ticks": ""
             }
            },
            "type": "scatterternary"
           }
          ],
          "surface": [
           {
            "colorbar": {
             "outlinewidth": 0,
             "ticks": ""
            },
            "colorscale": [
             [
              0,
              "#0d0887"
             ],
             [
              0.1111111111111111,
              "#46039f"
             ],
             [
              0.2222222222222222,
              "#7201a8"
             ],
             [
              0.3333333333333333,
              "#9c179e"
             ],
             [
              0.4444444444444444,
              "#bd3786"
             ],
             [
              0.5555555555555556,
              "#d8576b"
             ],
             [
              0.6666666666666666,
              "#ed7953"
             ],
             [
              0.7777777777777778,
              "#fb9f3a"
             ],
             [
              0.8888888888888888,
              "#fdca26"
             ],
             [
              1,
              "#f0f921"
             ]
            ],
            "type": "surface"
           }
          ],
          "table": [
           {
            "cells": {
             "fill": {
              "color": "#EBF0F8"
             },
             "line": {
              "color": "white"
             }
            },
            "header": {
             "fill": {
              "color": "#C8D4E3"
             },
             "line": {
              "color": "white"
             }
            },
            "type": "table"
           }
          ]
         },
         "layout": {
          "annotationdefaults": {
           "arrowcolor": "#2a3f5f",
           "arrowhead": 0,
           "arrowwidth": 1
          },
          "autotypenumbers": "strict",
          "coloraxis": {
           "colorbar": {
            "outlinewidth": 0,
            "ticks": ""
           }
          },
          "colorscale": {
           "diverging": [
            [
             0,
             "#8e0152"
            ],
            [
             0.1,
             "#c51b7d"
            ],
            [
             0.2,
             "#de77ae"
            ],
            [
             0.3,
             "#f1b6da"
            ],
            [
             0.4,
             "#fde0ef"
            ],
            [
             0.5,
             "#f7f7f7"
            ],
            [
             0.6,
             "#e6f5d0"
            ],
            [
             0.7,
             "#b8e186"
            ],
            [
             0.8,
             "#7fbc41"
            ],
            [
             0.9,
             "#4d9221"
            ],
            [
             1,
             "#276419"
            ]
           ],
           "sequential": [
            [
             0,
             "#0d0887"
            ],
            [
             0.1111111111111111,
             "#46039f"
            ],
            [
             0.2222222222222222,
             "#7201a8"
            ],
            [
             0.3333333333333333,
             "#9c179e"
            ],
            [
             0.4444444444444444,
             "#bd3786"
            ],
            [
             0.5555555555555556,
             "#d8576b"
            ],
            [
             0.6666666666666666,
             "#ed7953"
            ],
            [
             0.7777777777777778,
             "#fb9f3a"
            ],
            [
             0.8888888888888888,
             "#fdca26"
            ],
            [
             1,
             "#f0f921"
            ]
           ],
           "sequentialminus": [
            [
             0,
             "#0d0887"
            ],
            [
             0.1111111111111111,
             "#46039f"
            ],
            [
             0.2222222222222222,
             "#7201a8"
            ],
            [
             0.3333333333333333,
             "#9c179e"
            ],
            [
             0.4444444444444444,
             "#bd3786"
            ],
            [
             0.5555555555555556,
             "#d8576b"
            ],
            [
             0.6666666666666666,
             "#ed7953"
            ],
            [
             0.7777777777777778,
             "#fb9f3a"
            ],
            [
             0.8888888888888888,
             "#fdca26"
            ],
            [
             1,
             "#f0f921"
            ]
           ]
          },
          "colorway": [
           "#636efa",
           "#EF553B",
           "#00cc96",
           "#ab63fa",
           "#FFA15A",
           "#19d3f3",
           "#FF6692",
           "#B6E880",
           "#FF97FF",
           "#FECB52"
          ],
          "font": {
           "color": "#2a3f5f"
          },
          "geo": {
           "bgcolor": "white",
           "lakecolor": "white",
           "landcolor": "#E5ECF6",
           "showlakes": true,
           "showland": true,
           "subunitcolor": "white"
          },
          "hoverlabel": {
           "align": "left"
          },
          "hovermode": "closest",
          "mapbox": {
           "style": "light"
          },
          "paper_bgcolor": "white",
          "plot_bgcolor": "#E5ECF6",
          "polar": {
           "angularaxis": {
            "gridcolor": "white",
            "linecolor": "white",
            "ticks": ""
           },
           "bgcolor": "#E5ECF6",
           "radialaxis": {
            "gridcolor": "white",
            "linecolor": "white",
            "ticks": ""
           }
          },
          "scene": {
           "xaxis": {
            "backgroundcolor": "#E5ECF6",
            "gridcolor": "white",
            "gridwidth": 2,
            "linecolor": "white",
            "showbackground": true,
            "ticks": "",
            "zerolinecolor": "white"
           },
           "yaxis": {
            "backgroundcolor": "#E5ECF6",
            "gridcolor": "white",
            "gridwidth": 2,
            "linecolor": "white",
            "showbackground": true,
            "ticks": "",
            "zerolinecolor": "white"
           },
           "zaxis": {
            "backgroundcolor": "#E5ECF6",
            "gridcolor": "white",
            "gridwidth": 2,
            "linecolor": "white",
            "showbackground": true,
            "ticks": "",
            "zerolinecolor": "white"
           }
          },
          "shapedefaults": {
           "line": {
            "color": "#2a3f5f"
           }
          },
          "ternary": {
           "aaxis": {
            "gridcolor": "white",
            "linecolor": "white",
            "ticks": ""
           },
           "baxis": {
            "gridcolor": "white",
            "linecolor": "white",
            "ticks": ""
           },
           "bgcolor": "#E5ECF6",
           "caxis": {
            "gridcolor": "white",
            "linecolor": "white",
            "ticks": ""
           }
          },
          "title": {
           "x": 0.05
          },
          "xaxis": {
           "automargin": true,
           "gridcolor": "white",
           "linecolor": "white",
           "ticks": "",
           "title": {
            "standoff": 15
           },
           "zerolinecolor": "white",
           "zerolinewidth": 2
          },
          "yaxis": {
           "automargin": true,
           "gridcolor": "white",
           "linecolor": "white",
           "ticks": "",
           "title": {
            "standoff": 15
           },
           "zerolinecolor": "white",
           "zerolinewidth": 2
          }
         }
        },
        "title": {
         "text": "Revenue by Brand"
        },
        "xaxis": {
         "anchor": "y",
         "categoryorder": "total descending",
         "domain": [
          0,
          1
         ],
         "title": {
          "text": "brand"
         }
        },
        "yaxis": {
         "anchor": "x",
         "domain": [
          0,
          1
         ],
         "title": {
          "text": "estimated_revenue"
         }
        }
       }
      }
     },
     "metadata": {},
     "output_type": "display_data"
    }
   ],
   "source": [
    "top_brands = concat_df.groupby('brand')['estimated_revenue'].sum().nlargest(20).reset_index()['brand'].to_list()\n",
    "concat_df_top_brands = concat_df.loc[concat_df['brand'].isin(top_brands)].groupby(['brand', 'root_category'])['estimated_revenue'].sum().reset_index()\n",
    "\n",
    "fig = px.bar(concat_df_top_brands, x='brand', y='estimated_revenue', color='root_category', barmode='group')\n",
    "fig.update_layout(title='Revenue by Brand')\n",
    "fig.update_layout(xaxis={'categoryorder': 'total descending'})"
   ]
  },
  {
   "attachments": {},
   "cell_type": "markdown",
   "metadata": {},
   "source": [
    "This chart makes me think of some odd because some top brands such as CONVERSE, BITIS only show mens'collections.\n",
    "After investigating on TIKI, I found out:\n",
    "- Converse brand is unisex and they post under MENS' Shoes rather women's shoes.\n",
    "- Bitis are famous brand but revenue is too low because they are listed under another root category which is 'Thể thao - Dã Ngoại'\n",
    "\n",
    "The most revenue is from OEM footwears, which is 'no brand'"
   ]
  },
  {
   "attachments": {},
   "cell_type": "markdown",
   "metadata": {},
   "source": [
    "## MODELS TO PREDICT QUANTITY SOLD"
   ]
  },
  {
   "cell_type": "code",
   "execution_count": null,
   "metadata": {},
   "outputs": [],
   "source": []
  }
 ],
 "metadata": {
  "kernelspec": {
   "display_name": "base",
   "language": "python",
   "name": "python3"
  },
  "language_info": {
   "codemirror_mode": {
    "name": "ipython",
    "version": 3
   },
   "file_extension": ".py",
   "mimetype": "text/x-python",
   "name": "python",
   "nbconvert_exporter": "python",
   "pygments_lexer": "ipython3",
   "version": "3.9.13"
  },
  "orig_nbformat": 4
 },
 "nbformat": 4,
 "nbformat_minor": 2
}
