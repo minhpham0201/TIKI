{
 "cells": [
  {
   "cell_type": "code",
   "execution_count": 2,
   "metadata": {},
   "outputs": [],
   "source": [
    "import pandas as pd\n",
    "import json\n",
    "import requests \n",
    "import time\n",
    "import random\n",
    "import tqdm\n",
    "from urllib.parse import urlparse"
   ]
  },
  {
   "cell_type": "code",
   "execution_count": 4,
   "metadata": {},
   "outputs": [],
   "source": [
    "# cookies = {\n",
    "#     '_trackity' : '74634137-8702-8b12-fe42-46a46a2a2573',\n",
    "#     'TOKENS' : '{%22access_token%22:%22Ae1PtIuUDbozkgpQ6VOW57jKqvchZxF2%22%2C%22expires_in%22:157680000%2C%22expires_at%22:1844582643238%2C%22guest_token%22:%22Ae1PtIuUDbozkgpQ6VOW57jKqvchZxF2%22}',\n",
    "#     'delivery_zone' : 'Vk4wMzkwMDYwMDE=',\n",
    "#     '_gid' : 'GA1.2.1038835342.1686902648',\n",
    "#     'tiki_client_id' : '1000198359.1686902648',\n",
    "#     '_gcl_au' : '1.1.712561686.1686902651',\n",
    "#     '_fbp' : 'fb.1.1686902651246.1147493922',\n",
    "#     '_hjFirstSeen' : '1', \n",
    "#     '_hjIncludedInSessionSample_522327' : '0', \n",
    "#     '_hjSession_522327':'eyJpZCI6IjRmYmI5NDEzLTc1MzAtNDA3Yy1iYTMyLTYzZTI4Y2MzZTA5NSIsImNyZWF0ZWQiOjE2ODY5MDI2NTEzMTksImluU2FtcGxlIjpmYWxzZX0=',\n",
    "#     '_hjAbsoluteSessionInProgress' : '0',\n",
    "#     '__uidac' : 'b0f5fe8e77ade31f60d53549702ce9ac',\n",
    "#     '__iid' : '749', '__iid' : '749', '__su' : '0',\n",
    "#     '__su':'0', '__RC' : '5', '__R' : '3',\n",
    "#     '_hjSessionUser_522327':'eyJpZCI6IjFiMTI5YzM0LWE2NTItNWZmOC05NmEzLTFhY2JlOTMwZTViYyIsImNyZWF0ZWQiOjE2ODY5MDI2NTEzMDIsImV4aXN0aW5nIjp0cnVlfQ==',\n",
    "#     '__tb':'0', \n",
    "#     '__IP' : '712479999',\n",
    "#     'TIKI_RECOMMENDATION' : '40be1840f8c66757ac3812da38a02d7b',\n",
    "#     'TKSESSID':'cf67caae16e0362971a2fe1e3367c12e',\n",
    "#     '_bs':'c4f97c3c-1a3b-0d7a-f2dd-a0a3516f6617',\n",
    "#     '_gat' : '1',\n",
    "#     '_ga': 'GA1.2.1000198359.1686902648',\n",
    "#     '__uif' :'__uid%3A3569195332985378685%7C__ui%3A1%252C5%7C__create%3A1669195332',\n",
    "#     'cto_bundle':'5mSn7195TEwza3VCTEZZTk9HdWw1cSUyQkM2dGRGV0ZtUlRua1NvRjV5S2phc096S1lIVlJySjlmZkdqUVNScWNMbEdoamc0bE82czlSR0lYS1pKMU1pNk40U2lnQSUyRiUyQlBGbFJ5MXBwUUtwOW1oVUoxQm9hY1olMkZ1ZWplRzhUdThiZnNqeExlMnkyV1NyMnpBNmlJdXAwRFZvb2FsQSUzRCUzRA',\n",
    "#     'amp_99d374':'Rz66229-5rdmltAOjfyUvJ...1h31jn9b2.1h31k9l0t.2j.5e.81',\n",
    "#     '_ga_GSD4ETCY1D':'GS1.1.1686902651.1.1.1686903252.28.0.0'\n",
    "# }\n",
    "\n",
    "\n",
    "headers = {\n",
    "    'User-Agent':'Mozilla/5.0 (Windows NT 10.0; Win64; x64) AppleWebKit/537.36 (KHTML, like Gecko) Chrome/114.0.0.0 Safari/537.36',\n",
    "    'Accept':'application/json, text/plain, */*',\n",
    "    'Accept-Language': 'en-US,en;q=0.9,vi;q=0.8,th;q=0.7,zh-CN;q=0.6,zh;q=0.5',\n",
    "    'X-Guest-Token': 'Ae1PtIuUDbozkgpQ6VOW57jKqvchZxF2',\n",
    "    'Connection' : 'keep-alive',\n",
    "    'TE': 'Trailers'\n",
    "}"
   ]
  },
  {
   "cell_type": "code",
   "execution_count": null,
   "metadata": {},
   "outputs": [],
   "source": [
    "more_than_50 = [https://tiki.vn/lap-ghep-xep-hinh/c1948\n",
    "                https://tiki.vn/bup-be/c10509\n",
    "                https://tiki.vn/thu-bong/c10510\n",
    "                https://tiki.vn/tranh-ghep-hoc-so-hoc-hinh/c3170\n",
    "                https://tiki.vn/xep-khoi-tha-hinh/c3787\n",
    "                https://tiki.vn/mo-hinh-go/c3789\n",
    "                https://tiki.vn/mo-hinh-giay/c10513\n",
    "                https://tiki.vn/mo-hinh-3d/c10514\n",
    "                https://tiki.vn/xe-mo-hinh/c10515\n",
    "                https://tiki.vn/mo-hinh-nhan-vat/c10516\n",
    "                https://tiki.vn/do-choi-thu-cong/c10523\n",
    "                https://tiki.vn/do-choi-van-dong-mo-phong/c10529\n",
    "                https://tiki.vn/do-choi-board-games/c4505\n",
    "                https://tiki.vn/tro-choi-tri-tue/c10538\n",
    "                https://tiki.vn/diet-con-trung/c4441\n",
    "                https://tiki.vn/khu-mui-sap-thom/c8295\n",
    "                https://tiki.vn/nuoc-rua-chen/c4395\n",
    "                https://tiki.vn/san-pham-tay-da-nang/c10237\n",
    "                https://tiki.vn/bo-san-pham-ve-sinh-nha-cua/c10238\n",
    "                https://tiki.vn/do-bau-mac-nha/c8495\n",
    "                https://tiki.vn/do-bau-cong-so/c8496\n",
    "                https://tiki.vn/quan-ao-so-sinh/c5252\n",
    "\n",
    "]"
   ]
  },
  {
   "cell_type": "code",
   "execution_count": 8,
   "metadata": {},
   "outputs": [
    {
     "name": "stdout",
     "output_type": "stream",
     "text": [
      "total pages 3\n",
      "CATEGORY thuc-pham-an-lien 500,15000\n",
      "request done page 1\n",
      "request done page 2\n"
     ]
    },
    {
     "ename": "KeyboardInterrupt",
     "evalue": "",
     "output_type": "error",
     "traceback": [
      "\u001b[1;31m---------------------------------------------------------------------------\u001b[0m",
      "\u001b[1;31mKeyboardInterrupt\u001b[0m                         Traceback (most recent call last)",
      "\u001b[1;32m~\\AppData\\Local\\Temp\\ipykernel_10584\\3543038466.py\u001b[0m in \u001b[0;36m<module>\u001b[1;34m\u001b[0m\n\u001b[0;32m     52\u001b[0m                     \u001b[0mprint\u001b[0m\u001b[1;33m(\u001b[0m\u001b[1;34m'cannot request page'\u001b[0m\u001b[1;33m,\u001b[0m \u001b[0mi\u001b[0m\u001b[1;33m)\u001b[0m\u001b[1;33m\u001b[0m\u001b[1;33m\u001b[0m\u001b[0m\n\u001b[0;32m     53\u001b[0m                     \u001b[0mpage_error\u001b[0m\u001b[1;33m.\u001b[0m\u001b[0mappend\u001b[0m\u001b[1;33m(\u001b[0m\u001b[0mi\u001b[0m\u001b[1;33m)\u001b[0m\u001b[1;33m\u001b[0m\u001b[1;33m\u001b[0m\u001b[0m\n\u001b[1;32m---> 54\u001b[1;33m                 \u001b[0mtime\u001b[0m\u001b[1;33m.\u001b[0m\u001b[0msleep\u001b[0m\u001b[1;33m(\u001b[0m\u001b[0mrandom\u001b[0m\u001b[1;33m.\u001b[0m\u001b[0mrandrange\u001b[0m\u001b[1;33m(\u001b[0m\u001b[1;36m3\u001b[0m\u001b[1;33m,\u001b[0m \u001b[1;36m10\u001b[0m\u001b[1;33m)\u001b[0m\u001b[1;33m)\u001b[0m\u001b[1;33m\u001b[0m\u001b[1;33m\u001b[0m\u001b[0m\n\u001b[0m\u001b[0;32m     55\u001b[0m \u001b[1;33m\u001b[0m\u001b[0m\n\u001b[0;32m     56\u001b[0m             \u001b[0mproduct_df\u001b[0m \u001b[1;33m=\u001b[0m \u001b[0mpd\u001b[0m\u001b[1;33m.\u001b[0m\u001b[0mDataFrame\u001b[0m\u001b[1;33m(\u001b[0m\u001b[0mproduct_data\u001b[0m\u001b[1;33m,\u001b[0m \u001b[0mcolumns\u001b[0m\u001b[1;33m=\u001b[0m\u001b[1;33m[\u001b[0m\u001b[1;34m'product_id'\u001b[0m\u001b[1;33m,\u001b[0m \u001b[1;34m'category_name'\u001b[0m\u001b[1;33m,\u001b[0m \u001b[1;34m'max_page'\u001b[0m\u001b[1;33m]\u001b[0m\u001b[1;33m)\u001b[0m\u001b[1;33m\u001b[0m\u001b[1;33m\u001b[0m\u001b[0m\n",
      "\u001b[1;31mKeyboardInterrupt\u001b[0m: "
     ]
    }
   ],
   "source": [
    "list_url = [https://tiki.vn/ta-dan/c2552\n",
    "            https://tiki.vn/mieng-lot-so-sinh/c10414\n",
    "            https://tiki.vn/ta-quan/c2553\n",
    "            https://tiki.vn/ta-giay/c10415\n",
    "            https://tiki.vn/ta-vai/c2554\n",
    "            https://tiki.vn/ta-bim-danh-cho-nguoi-lon/c10417\n",
    "            https://tiki.vn/khan-giay-uot-cho-be/c2555\n",
    "            https://tiki.vn/sua-bot-cho-be/c2600\n",
    "            https://tiki.vn/sua-cong-thuc-pha-san/c10419\n",
    "            https://tiki.vn/vitamins/c10423\n",
    "            https://tiki.vn/bot-an-dam/c2606\n",
    "            https://tiki.vn/nuoc-trai-cay-cho-be/c10424\n",
    "            https://tiki.vn/banh-an-dam/c6570\n",
    "            https://tiki.vn/banh-quy/c10448\n",
    "            https://tiki.vn/thuc-pham-che-bien-san/c6571\n",
    "            https://tiki.vn/dau-an-cho-be/c6572\n",
    "            https://tiki.vn/tra-va-thuc-uong-cho-be/c2609\n",
    "            https://tiki.vn/thuc-pham-an-dam/c6568\n",
    "            https://tiki.vn/dinh-duong-cho-me/c10416\n",
    "            https://tiki.vn/dinh-duong-cho-nguoi-lon/c10418\n",
    "            https://tiki.vn/binh-sua-binh-tap-uong/c2557\n",
    "            https://tiki.vn/phu-kien-binh/c2560\n",
    "            https://tiki.vn/num-ti/c2558\n",
    "            https://tiki.vn/ngam-nuou/c8461\n",
    "            https://tiki.vn/dung-cu-tap-an/c2561\n",
    "            https://tiki.vn/tiet-trung-ham-sua/c2564\n",
    "            https://tiki.vn/hop-chia-do-an/c10449\n",
    "            https://tiki.vn/yem-khan-cho-be/c2565\n",
    "            https://tiki.vn/binh-tap-uong/c6567\n",
    "            https://tiki.vn/dung-cu-che-bien-thuc-an-cho-be/c8462\n",
    "            https://tiki.vn/ghe-an/c2580\n",
    "            https://tiki.vn/sua-tam-cho-be/c2569\n",
    "            https://tiki.vn/dau-goi-cho-be/c2568\n",
    "            https://tiki.vn/phan-kem-duong-nuoc-hoa/c2570\n",
    "            https://tiki.vn/dung-cu-tam-cho-be/c2574\n",
    "            https://tiki.vn/ve-sinh-rang-mieng-cho-be/c2577\n",
    "            https://tiki.vn/khan-tam-ao-choang/c2575\n",
    "            https://tiki.vn/giat-xa-quan-ao/c6576\n",
    "            https://tiki.vn/nuoc-rua-binh-sua/c2582\n",
    "            https://tiki.vn/noi-giuong-cui-vong/c2586\n",
    "            https://tiki.vn/bo-chan-goi-cho-be/c10476\n",
    "            https://tiki.vn/goi/c10477\n",
    "            https://tiki.vn/chan-men/c10478\n",
    "            https://tiki.vn/tui-ngu/c10479\n",
    "            https://tiki.vn/mung/c10480\n",
    "            https://tiki.vn/nem/c10481\n",
    "            https://tiki.vn/drap-ga-bao-goi/c10482\n",
    "            https://tiki.vn/tui-ngu-chan-cuon-cho-be/c2590\n",
    "            https://tiki.vn/dem-lot-chong-tham-cho-be/c2589\n",
    "            https://tiki.vn/den-ngu/c2592\n",
    "            https://tiki.vn/do-dung-bao-ve-be/c2584\n",
    "            https://tiki.vn/dung-cu-cham-soc-suc-khoe/c2576\n",
    "            https://tiki.vn/do-dung-di-choi/c2593\n",
    "            https://tiki.vn/do-choi-dieu-khien/c8469\n",
    "            https://tiki.vn/phu-kien-bup-be/c10511\n",
    "            https://tiki.vn/ngoi-nha-bup-be/c10512\n",
    "            https://tiki.vn/lap-rap-go/c3788\n",
    "            https://tiki.vn/nhac-cu-go/c3790\n",
    "            https://tiki.vn/bap-benh-xe-day-go/c3792\n",
    "            https://tiki.vn/ban-ghe-ke-go/c4453\n",
    "            https://tiki.vn/do-choi-go-khac/c3793\n",
    "            https://tiki.vn/huong-nghiep-nhap-vai/c10517\n",
    "            https://tiki.vn/bang-ve/c10518\n",
    "            https://tiki.vn/que-tinh/c10519\n",
    "            https://tiki.vn/bang-so/c10520\n",
    "            https://tiki.vn/the-flash-card/c10521\n",
    "            https://tiki.vn/sach-vai/c10522\n",
    "            https://tiki.vn/xe-dap-tre-em/c3211\n",
    "            https://tiki.vn/xe-choi-chan/c8472\n",
    "            https://tiki.vn/xe-scooter/c3212\n",
    "            https://tiki.vn/van-truot/c8471\n",
    "            https://tiki.vn/xe-lac/c10526\n",
    "            https://tiki.vn/thu-nhun/c10527\n",
    "            https://tiki.vn/giay-truot-patin/c10528\n",
    "            https://tiki.vn/nha-banh-va-phu-kien/c10530\n",
    "            https://tiki.vn/dieu/c10531\n",
    "            https://tiki.vn/chong-chong/c10532\n",
    "            https://tiki.vn/yoyo/c10533\n",
    "            https://tiki.vn/sung-ban-nuoc/c10534\n",
    "            https://tiki.vn/spinner/c10535\n",
    "            https://tiki.vn/xe-dien-tre-em/c54724\n",
    "            https://tiki.vn/do-choi-nhac-cu/c4604\n",
    "            https://tiki.vn/co/c10445\n",
    "            https://tiki.vn/bot-nan-to-mau/c4500\n",
    "            https://tiki.vn/leu-ngoai-troi/c10540\n",
    "            https://tiki.vn/leu-trong-nha/c10541\n",
    "            https://tiki.vn/tui-ngu/c10542\n",
    "            https://tiki.vn/tham-nam-choi/c10543\n",
    "            https://tiki.vn/do-choi-be-so-sinh/c4601\n",
    "            https://tiki.vn/do-choi-ao-thuat/c10536\n",
    "            https://tiki.vn/tro-choi-dan-gian/c10537\n",
    "            https://tiki.vn/video-games/c10539\n",
    "            https://tiki.vn/may-hut-sua-tui-tru-sua/c6580\n",
    "            https://tiki.vn/dai-do-bung-bau/c10556\n",
    "            https://tiki.vn/dai-nit-bung-quan-tao-dang-sau-sinh/c2654\n",
    "            https://tiki.vn/dung-dich-tam-goi-cham-soc-da/c2656\n",
    "            https://tiki.vn/phuong-phap-dan-gian/c10559\n",
    "            https://tiki.vn/phu-kien-cho-me/c6581\n",
    "            https://tiki.vn/chuan-bi-mang-thai/c10570\n",
    "            https://tiki.vn/khan-an/c4406\n",
    "            https://tiki.vn/giay-ve-sinh/c4409\n",
    "            https://tiki.vn/nuoc-lau-san/c4398\n",
    "            https://tiki.vn/dung-cu-ve-sinh/c4401\n",
    "            https://tiki.vn/khan-giay-giay-da-nang/c4388\n",
    "            https://tiki.vn/bot-giat-nuoc-giat/c4402\n",
    "            https://tiki.vn/nuoc-giat/c8239\n",
    "            https://tiki.vn/nuoc-xa-vai/c4403\n",
    "            https://tiki.vn/nuoc-ui-quan-ao/c4404\n",
    "            https://tiki.vn/san-pham-cham-soc-ao-quan-khac/c4405\n",
    "            https://tiki.vn/bo-san-pham-cham-soc-quan-ao/c10231\n",
    "            https://tiki.vn/giay-dep-cho-me-bau/c10601\n",
    "            https://tiki.vn/bo-ao-lien-quan/c5253\n",
    "            https://tiki.vn/phu-kien-thoi-trang-so-sinh/c5602\n",
    "            https://tiki.vn/non-vo-giay-bao-tay-so-sinh/c5254\n",
    "            \n",
    "            ]\n",
    "\n",
    "page_error = []\n",
    "price_range = ['500,15000', '15001,30000', '30001,50000','50001,80000','80001,150000',   #price range to separate to smaller pages\n",
    "               '150001,500000','500001,1500000','1500001,1000000000']\n",
    "list_page_50 = []\n",
    "\n",
    "for url in list_url:\n",
    "    parsed_url = urlparse(url)\n",
    "    path_segments = parsed_url.path.split('/')\n",
    "\n",
    "    category_name = path_segments[1]\n",
    "    category_id = path_segments[2][1:]\n",
    "    for price in price_range:\n",
    "        params = {\n",
    "            'limit': '40',\n",
    "            'include': 'advertisement',\n",
    "            'aggregations': '2',\n",
    "            'trackity_id': '74634137-8702-8b12-fe42-46a46a2a2573',\n",
    "            'category': category_id,\n",
    "            'page': '1',\n",
    "            'urlKey': category_name,\n",
    "            'price': price\n",
    "        }\n",
    "\n",
    "        product_data = []\n",
    "        \n",
    "        response = requests.get('https://tiki.vn/api/personalish/v1/blocks/listings', headers=headers, params=params)\n",
    "        \n",
    "        if response.status_code == 200:\n",
    "            response_json = response.json()\n",
    "            last_page = response_json.get('paging', {}).get('last_page')\n",
    "            print('total pages', last_page)\n",
    "            print('CATEGORY', category_name, price)\n",
    "            \n",
    "            if last_page == 50:\n",
    "                list_page_50.append([category_name,price])\n",
    "                continue\n",
    "            \n",
    "            for i in range(1, last_page + 1):\n",
    "                params['page'] = i\n",
    "                response = requests.get('https://tiki.vn/api/personalish/v1/blocks/listings', headers=headers, params=params)\n",
    "\n",
    "                if response.status_code == 200:\n",
    "                    print('request done page', i)\n",
    "                    response_json = response.json()\n",
    "                    for record in response_json.get('data', []):\n",
    "                        product_id = record.get('id')\n",
    "                        product_data.append({'product_id': product_id, 'category_name': category_name, 'max_page': last_page})\n",
    "                else:\n",
    "                    print('cannot request page', i)\n",
    "                    page_error.append(i)\n",
    "                time.sleep(random.randrange(3, 10))\n",
    "\n",
    "            product_df = pd.DataFrame(product_data, columns=['product_id', 'category_name', 'max_page'])\n",
    "            output_file_name = f'BACH-HOA-{category_name}.csv'\n",
    "            product_df.to_csv(output_file_name, index=False)\n",
    "            \n",
    "        else:\n",
    "            print(f'Cannot request data for category {category_name}')\n",
    "            page_error.append(category_name)\n",
    "\n",
    "page_50_file = 'page50.txt'\n",
    "cannot_request_page_file = 'page_error.txt'\n",
    "\n",
    "# Open the file in append mode\n",
    "with open(page_50_file, 'a') as file:\n",
    "    # Write each item of the list to a separate line in the file\n",
    "    file.write('\\n'.join(list_page_50) + '\\n')\n",
    "\n",
    "with open(cannot_request_page_file, 'a') as file:\n",
    "    # Write each item of the list to a separate line in the file\n",
    "    file.write('\\n'.join(page_error) + '\\n')"
   ]
  },
  {
   "cell_type": "code",
   "execution_count": null,
   "metadata": {},
   "outputs": [
    {
     "name": "stderr",
     "output_type": "stream",
     "text": [
      "  9%|▉         | 1/11 [00:00<00:02,  3.44it/s]"
     ]
    },
    {
     "name": "stdout",
     "output_type": "stream",
     "text": [
      "crawling product id 250109584\n"
     ]
    },
    {
     "name": "stderr",
     "output_type": "stream",
     "text": [
      " 18%|█▊        | 2/11 [00:00<00:02,  3.71it/s]"
     ]
    },
    {
     "name": "stdout",
     "output_type": "stream",
     "text": [
      "crawling product id 103168844\n"
     ]
    },
    {
     "name": "stderr",
     "output_type": "stream",
     "text": [
      " 27%|██▋       | 3/11 [00:00<00:02,  3.65it/s]"
     ]
    },
    {
     "name": "stdout",
     "output_type": "stream",
     "text": [
      "crawling product id 216174917\n"
     ]
    },
    {
     "name": "stderr",
     "output_type": "stream",
     "text": [
      " 36%|███▋      | 4/11 [00:01<00:01,  3.81it/s]"
     ]
    },
    {
     "name": "stdout",
     "output_type": "stream",
     "text": [
      "crawling product id 247730281\n"
     ]
    },
    {
     "name": "stderr",
     "output_type": "stream",
     "text": [
      " 45%|████▌     | 5/11 [00:01<00:01,  3.71it/s]"
     ]
    },
    {
     "name": "stdout",
     "output_type": "stream",
     "text": [
      "crawling product id 214756058\n"
     ]
    },
    {
     "name": "stderr",
     "output_type": "stream",
     "text": [
      " 55%|█████▍    | 6/11 [00:01<00:01,  2.93it/s]"
     ]
    },
    {
     "name": "stdout",
     "output_type": "stream",
     "text": [
      "crawling product id 183330021\n"
     ]
    },
    {
     "name": "stderr",
     "output_type": "stream",
     "text": [
      " 64%|██████▎   | 7/11 [00:02<00:01,  2.49it/s]"
     ]
    },
    {
     "name": "stdout",
     "output_type": "stream",
     "text": [
      "crawling product id 189658085\n"
     ]
    },
    {
     "name": "stderr",
     "output_type": "stream",
     "text": [
      " 73%|███████▎  | 8/11 [00:02<00:01,  2.34it/s]"
     ]
    },
    {
     "name": "stdout",
     "output_type": "stream",
     "text": [
      "crawling product id 142545270\n"
     ]
    },
    {
     "name": "stderr",
     "output_type": "stream",
     "text": [
      " 82%|████████▏ | 9/11 [00:03<00:00,  2.18it/s]"
     ]
    },
    {
     "name": "stdout",
     "output_type": "stream",
     "text": [
      "crawling product id 91612670\n"
     ]
    },
    {
     "name": "stderr",
     "output_type": "stream",
     "text": [
      " 91%|█████████ | 10/11 [00:03<00:00,  2.55it/s]"
     ]
    },
    {
     "name": "stdout",
     "output_type": "stream",
     "text": [
      "crawling product id 177343384\n"
     ]
    },
    {
     "name": "stderr",
     "output_type": "stream",
     "text": [
      " 91%|█████████ | 10/11 [00:03<00:00,  2.62it/s]"
     ]
    },
    {
     "name": "stdout",
     "output_type": "stream",
     "text": [
      "crawling product id 247892412\n"
     ]
    },
    {
     "name": "stderr",
     "output_type": "stream",
     "text": [
      "\n"
     ]
    },
    {
     "ename": "AttributeError",
     "evalue": "'NoneType' object has no attribute 'get'",
     "output_type": "error",
     "traceback": [
      "\u001b[1;31m---------------------------------------------------------------------------\u001b[0m\n",
      "\u001b[1;31mAttributeError\u001b[0m                            Traceback (most recent call last)\n",
      "\u001b[1;32m~\\AppData\\Local\\Temp\\ipykernel_18300\\1718451119.py\u001b[0m in \u001b[0;36m<module>\u001b[1;34m\u001b[0m\n",
      "\u001b[0;32m      6\u001b[0m     \u001b[1;32mif\u001b[0m \u001b[0mresponse\u001b[0m\u001b[1;33m.\u001b[0m\u001b[0mstatus_code\u001b[0m \u001b[1;33m==\u001b[0m \u001b[1;36m200\u001b[0m\u001b[1;33m:\u001b[0m\u001b[1;33m\u001b[0m\u001b[1;33m\u001b[0m\u001b[0m\n",
      "\u001b[0;32m      7\u001b[0m         \u001b[0mprint\u001b[0m\u001b[1;33m(\u001b[0m\u001b[1;34m'crawling product id {}'\u001b[0m\u001b[1;33m.\u001b[0m\u001b[0mformat\u001b[0m\u001b[1;33m(\u001b[0m\u001b[0mid\u001b[0m\u001b[1;33m)\u001b[0m\u001b[1;33m)\u001b[0m\u001b[1;33m\u001b[0m\u001b[1;33m\u001b[0m\u001b[0m\n",
      "\u001b[1;32m----> 8\u001b[1;33m         \u001b[0mresult\u001b[0m\u001b[1;33m.\u001b[0m\u001b[0mappend\u001b[0m\u001b[1;33m(\u001b[0m\u001b[0mproduct_parser\u001b[0m\u001b[1;33m(\u001b[0m\u001b[0mresponse\u001b[0m\u001b[1;33m.\u001b[0m\u001b[0mjson\u001b[0m\u001b[1;33m(\u001b[0m\u001b[1;33m)\u001b[0m\u001b[1;33m)\u001b[0m\u001b[1;33m)\u001b[0m\u001b[1;33m\u001b[0m\u001b[1;33m\u001b[0m\u001b[0m\n",
      "\u001b[0m\u001b[0;32m      9\u001b[0m \u001b[1;33m\u001b[0m\u001b[0m\n",
      "\u001b[0;32m     10\u001b[0m \u001b[0mproduct_info\u001b[0m \u001b[1;33m=\u001b[0m \u001b[0mpd\u001b[0m\u001b[1;33m.\u001b[0m\u001b[0mDataFrame\u001b[0m\u001b[1;33m(\u001b[0m\u001b[0mresult\u001b[0m\u001b[1;33m)\u001b[0m\u001b[1;33m\u001b[0m\u001b[1;33m\u001b[0m\u001b[0m\n",
      "\n",
      "\u001b[1;32m~\\AppData\\Local\\Temp\\ipykernel_18300\\4078801000.py\u001b[0m in \u001b[0;36mproduct_parser\u001b[1;34m(json)\u001b[0m\n",
      "\u001b[0;32m     20\u001b[0m     \u001b[0mpInfo\u001b[0m\u001b[1;33m[\u001b[0m\u001b[1;34m'favourite_count'\u001b[0m\u001b[1;33m]\u001b[0m \u001b[1;33m=\u001b[0m \u001b[0mjson\u001b[0m\u001b[1;33m.\u001b[0m\u001b[0mget\u001b[0m\u001b[1;33m(\u001b[0m\u001b[1;34m'favourite_count'\u001b[0m\u001b[1;33m)\u001b[0m\u001b[1;33m\u001b[0m\u001b[1;33m\u001b[0m\u001b[0m\n",
      "\u001b[0;32m     21\u001b[0m     \u001b[0mpInfo\u001b[0m\u001b[1;33m[\u001b[0m\u001b[1;34m'ASA_cashback'\u001b[0m\u001b[1;33m]\u001b[0m \u001b[1;33m=\u001b[0m \u001b[0mjson\u001b[0m\u001b[1;33m.\u001b[0m\u001b[0mget\u001b[0m\u001b[1;33m(\u001b[0m\u001b[1;34m'asa_cashback_widget'\u001b[0m\u001b[1;33m)\u001b[0m\u001b[1;33m.\u001b[0m\u001b[0mget\u001b[0m\u001b[1;33m(\u001b[0m\u001b[1;34m'text'\u001b[0m\u001b[1;33m)\u001b[0m\u001b[1;33m\u001b[0m\u001b[1;33m\u001b[0m\u001b[0m\n",
      "\u001b[1;32m---> 22\u001b[1;33m     \u001b[0mpInfo\u001b[0m\u001b[1;33m[\u001b[0m\u001b[1;34m'pay_later'\u001b[0m\u001b[1;33m]\u001b[0m \u001b[1;33m=\u001b[0m \u001b[0mjson\u001b[0m\u001b[1;33m.\u001b[0m\u001b[0mget\u001b[0m\u001b[1;33m(\u001b[0m\u001b[1;34m'installment_info_v2'\u001b[0m\u001b[1;33m)\u001b[0m\u001b[1;33m.\u001b[0m\u001b[0mget\u001b[0m\u001b[1;33m(\u001b[0m\u001b[1;34m'summary'\u001b[0m\u001b[1;33m)\u001b[0m\u001b[1;33m\u001b[0m\u001b[1;33m\u001b[0m\u001b[0m\n",
      "\u001b[0m\u001b[0;32m     23\u001b[0m     \u001b[1;32mreturn\u001b[0m \u001b[0mpInfo\u001b[0m\u001b[1;33m\u001b[0m\u001b[1;33m\u001b[0m\u001b[0m\n",
      "\n",
      "\u001b[1;31mAttributeError\u001b[0m: 'NoneType' object has no attribute 'get'"
     ]
    }
   ],
   "source": [
    "from tqdm import tqdm\n",
    "\n",
    "result = []\n",
    "for id in tqdm(list):\n",
    "    response = requests.get('https://tiki.vn/api/v2/products/{}'.format(id),headers=headers,params=params)\n",
    "    if response.status_code == 200:\n",
    "        print('crawling product id {}'.format(id))\n",
    "        result.append(product_parser(response.json()))\n",
    "\n",
    "product_info = pd.DataFrame(result)\n"
   ]
  }
 ],
 "metadata": {
  "kernelspec": {
   "display_name": "base",
   "language": "python",
   "name": "python3"
  },
  "language_info": {
   "codemirror_mode": {
    "name": "ipython",
    "version": 3
   },
   "file_extension": ".py",
   "mimetype": "text/x-python",
   "name": "python",
   "nbconvert_exporter": "python",
   "pygments_lexer": "ipython3",
   "version": "3.9.13"
  },
  "orig_nbformat": 4
 },
 "nbformat": 4,
 "nbformat_minor": 2
}
